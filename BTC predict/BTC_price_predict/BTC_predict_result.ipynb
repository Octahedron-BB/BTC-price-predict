{
 "cells": [
  {
   "cell_type": "code",
   "execution_count": 2,
   "metadata": {},
   "outputs": [],
   "source": [
    "#MacOS 兼容性操作\n",
    "import ssl\n",
    "import certifi\n",
    "\n",
    "ssl._create_default_https_context = ssl._create_unverified_context\n",
    "\n",
    "import os\n",
    "os.environ['TF_ENABLE_ONEDNN_OPTS'] = '0'\n",
    "\n",
    "import tensorflow as tf\n",
    "physical_devices = tf.config.list_physical_devices('GPU')\n",
    "tf.config.experimental.set_memory_growth(physical_devices[0], True)"
   ]
  },
  {
   "cell_type": "code",
   "execution_count": 7,
   "metadata": {},
   "outputs": [],
   "source": [
    "import pandas as pd \n",
    "import numpy as np\n",
    "from matplotlib import pyplot as plt\n",
    "\n",
    "from keras.models import Sequential\n",
    "from keras.layers import Dense, LSTM\n",
    "\n",
    "import altair as alt\n",
    "from sklearn.preprocessing import MinMaxScaler\n",
    "\n",
    "from keras.models import load_model\n",
    "\n",
    "import nbimporter"
   ]
  },
  {
   "cell_type": "code",
   "execution_count": 5,
   "metadata": {},
   "outputs": [
    {
     "name": "stderr",
     "output_type": "stream",
     "text": [
      "/Library/Frameworks/Python.framework/Versions/3.10/lib/python3.10/site-packages/keras/src/saving/saving_lib.py:415: UserWarning: Skipping variable loading for optimizer 'rmsprop', because it has 12 variables whereas the saved optimizer has 22 variables. \n",
      "  saveable.load_own_variables(weights_store.get(inner_path))\n"
     ]
    }
   ],
   "source": [
    "model = load_model('BTC_predict_test3.keras')"
   ]
  },
  {
   "cell_type": "code",
   "execution_count": 16,
   "metadata": {},
   "outputs": [],
   "source": [
    "import joblib\n",
    "\n",
    "# 加载scaler\n",
    "scaler = joblib.load('scaler.pkl')"
   ]
  },
  {
   "cell_type": "code",
   "execution_count": 17,
   "metadata": {},
   "outputs": [
    {
     "name": "stdout",
     "output_type": "stream",
     "text": [
      "| timeOpen   | Close   | Open    | High    | Low     | volume   | Chg.(%)   |\n",
      "|:-----------|:--------|:--------|:--------|:--------|:---------|:----------|\n",
      "| 2024/5/19  | 66279.1 | 66919   | 67662.5 | 65937.3 | 36190    | -0.01     |\n",
      "| 2024/5/20  | 71422.7 | 66278.3 | 71482.8 | 66076.5 | 112660   | 0.08      |\n",
      "| 2024/5/21  | 70139.9 | 71430.5 | 71872   | 69181.7 | 108560   | -0.02     |\n",
      "| 2024/5/22  | 69155.4 | 70141   | 70593.4 | 69024.3 | 65080    | -0.01     |\n",
      "| 2024/5/23  | 67975.7 | 69166.3 | 70041   | 66578.1 | 89450    | -0.02     |\n",
      "<class 'pandas.core.frame.DataFrame'>\n",
      "RangeIndex: 30 entries, 0 to 29\n",
      "Data columns (total 7 columns):\n",
      " #   Column    Non-Null Count  Dtype  \n",
      "---  ------    --------------  -----  \n",
      " 0   timeOpen  30 non-null     object \n",
      " 1   Close     30 non-null     float64\n",
      " 2   Open      30 non-null     float64\n",
      " 3   High      30 non-null     float64\n",
      " 4   Low       30 non-null     float64\n",
      " 5   volume    30 non-null     float64\n",
      " 6   Chg.(%)   30 non-null     float64\n",
      "dtypes: float64(6), object(1)\n",
      "memory usage: 1.8+ KB\n",
      "None\n"
     ]
    }
   ],
   "source": [
    "data_30d = pd.read_csv('BTC_30D.csv')\n",
    "\n",
    "# Display the first 5 rows\n",
    "print(data_30d.head().to_markdown(index=False, numalign=\"left\", stralign=\"left\"))\n",
    "\n",
    "# Print the column names and their data types\n",
    "print(data_30d.info())"
   ]
  },
  {
   "cell_type": "code",
   "execution_count": 18,
   "metadata": {},
   "outputs": [
    {
     "name": "stdout",
     "output_type": "stream",
     "text": [
      "(30, 5)\n",
      "<class 'numpy.ndarray'>\n"
     ]
    }
   ],
   "source": [
    "price_30d = data_30d.drop(['timeOpen', 'Chg.(%)'], axis=1)\n",
    "\n",
    "scaled_30d_data = scaler.transform(price_30d)\n",
    "\n",
    "print(scaled_30d_data.shape)\n",
    "print(type(scaled_30d_data))"
   ]
  },
  {
   "cell_type": "code",
   "execution_count": 19,
   "metadata": {},
   "outputs": [
    {
     "name": "stdout",
     "output_type": "stream",
     "text": [
      "(1, 30, 5)\n",
      "[[[9.81476290e-01 9.90956300e-01 9.80704775e-01 9.93997874e-01\n",
      "   8.03803179e-06]\n",
      "  [1.05777238e+00 9.81452777e-01 1.03620779e+00 9.96099222e-01\n",
      "   2.51454153e-05]\n",
      "  [1.03874434e+00 1.05787552e+00 1.04186226e+00 1.04297498e+00\n",
      "   2.42281893e-05]\n",
      "  [1.02414105e+00 1.03874833e+00 1.02328619e+00 1.04059888e+00\n",
      "   1.45011194e-05]\n",
      "  [1.00664231e+00 1.02429057e+00 1.01526068e+00 1.00367132e+00\n",
      "   1.99530213e-05]\n",
      "  [1.01512542e+00 1.00656213e+00 1.00321660e+00 1.00529715e+00\n",
      "   1.40984348e-05]\n",
      "  [1.02605453e+00 1.01512228e+00 1.00825506e+00 1.03292715e+00\n",
      "   5.57270726e-06]\n",
      "  [1.01463889e+00 1.02608389e+00 1.00731362e+00 1.02958190e+00\n",
      "   5.44071620e-06]\n",
      "  [1.02819496e+00 1.01462389e+00 1.02393852e+00 1.02929055e+00\n",
      "   1.09194637e-05]\n",
      "  [1.01243171e+00 1.02817683e+00 1.00828267e+00 1.01456753e+00\n",
      "   1.59127526e-05]\n",
      "  [1.00160050e+00 1.01242266e+00 9.98648855e-01 1.01220201e+00\n",
      "   1.16040275e-05]\n",
      "  [1.01226410e+00 1.00152187e+00 1.00746907e+00 1.01212955e+00\n",
      "   1.48948555e-05]\n",
      "  [1.00003263e+00 1.01221649e+00 1.00040099e+00 1.00516128e+00\n",
      "   1.37024616e-05]\n",
      "  [1.00345465e+00 1.00007713e+00 9.83588671e-01 1.01682739e+00\n",
      "   4.19463112e-06]\n",
      "  [1.00364304e+00 1.00344275e+00 9.92109603e-01 1.01503098e+00\n",
      "   6.79418384e-06]\n",
      "  [1.01898502e+00 1.00347983e+00 1.01656824e+00 1.01935142e+00\n",
      "   1.54720367e-05]\n",
      "  [1.04481557e+00 1.01897590e+00 1.02969033e+00 1.03365478e+00\n",
      "   1.68747213e-05]\n",
      "  [1.05274392e+00 1.04482839e+00 1.04000843e+00 1.06132252e+00\n",
      "   1.49440725e-05]\n",
      "  [1.04840966e+00 1.05272995e+00 1.03814443e+00 1.05802558e+00\n",
      "   1.10805376e-05]\n",
      "  [1.02699644e+00 1.04842540e+00 1.04308991e+00 1.03450618e+00\n",
      "   1.84250570e-05]\n",
      "  [1.02643574e+00 1.02697090e+00 1.00844829e+00 1.04358938e+00\n",
      "   5.09396003e-06]\n",
      "  [1.03148645e+00 1.02642950e+00 1.01245378e+00 1.04229566e+00\n",
      "   4.63758416e-06]\n",
      "  [1.02981920e+00 1.03146828e+00 1.01688060e+00 1.04415548e+00\n",
      "   8.69351281e-06]\n",
      "  [9.96913209e-01 1.02980253e+00 1.00846572e+00 9.97930354e-01\n",
      "   2.15749453e-05]\n",
      "  [1.01086087e+00 9.96917696e-01 1.01453135e+00 1.00870429e+00\n",
      "   1.90805380e-05]\n",
      "  [9.88803895e-01 1.01085630e+00 9.91195764e-01 9.99839984e-01\n",
      "   1.47874729e-05]\n",
      "  [9.77852537e-01 9.88823310e-01 9.76131221e-01 9.81003333e-01\n",
      "   1.45234908e-05]\n",
      "  [9.80644147e-01 9.77830550e-01 9.63036735e-01 9.93360828e-01\n",
      "   5.32214796e-06]\n",
      "  [9.87344307e-01 9.80632510e-01 9.70373599e-01 9.95519540e-01\n",
      "   4.58165575e-06]\n",
      "  [9.72215918e-01 9.87305891e-01 9.69525138e-01 9.87240955e-01\n",
      "   7.90604073e-06]]]\n"
     ]
    }
   ],
   "source": [
    "scaled_30d_data = scaled_30d_data.reshape(1, 30, 5)\n",
    "print(scaled_30d_data.shape)\n",
    "print(scaled_30d_data)"
   ]
  },
  {
   "cell_type": "code",
   "execution_count": 20,
   "metadata": {},
   "outputs": [],
   "source": [
    "#定义函数\n",
    "def predict_and_update(model, scaled_30d_data, num_predictions):\n",
    "    \"\"\"\n",
    "    使用模型进行多次预测，并在每次预测后更新输入数据。\n",
    "\n",
    "    参数:\n",
    "        model: 训练好的预测模型。\n",
    "        scaled_30d_data: 初始的归一化价格数据，形状为 (1, 30, 5)。\n",
    "        num_predictions: 要进行的预测次数。\n",
    "\n",
    "    返回:\n",
    "        所有预测结果组成的列表。\n",
    "    \"\"\"\n",
    "    predictions = []\n",
    "    for _ in range(num_predictions):\n",
    "        # 预测\n",
    "        predict_30d = model.predict(scaled_30d_data)\n",
    "\n",
    "        # 转换 predict_30d 的形状并拼接\n",
    "        scaled_30d_data = np.concatenate([scaled_30d_data, predict_30d.reshape(1, 1, 5)], axis=1)\n",
    "\n",
    "        # 删除第一个元素\n",
    "        scaled_30d_data = scaled_30d_data[:, 1:]\n",
    "\n",
    "        predictions.append(predict_30d)\n",
    "\n",
    "    return predictions"
   ]
  },
  {
   "cell_type": "code",
   "execution_count": 21,
   "metadata": {},
   "outputs": [
    {
     "name": "stdout",
     "output_type": "stream",
     "text": [
      "\u001b[1m1/1\u001b[0m \u001b[32m━━━━━━━━━━━━━━━━━━━━\u001b[0m\u001b[37m\u001b[0m \u001b[1m2s\u001b[0m 2s/step\n",
      "\u001b[1m1/1\u001b[0m \u001b[32m━━━━━━━━━━━━━━━━━━━━\u001b[0m\u001b[37m\u001b[0m \u001b[1m0s\u001b[0m 103ms/step\n",
      "\u001b[1m1/1\u001b[0m \u001b[32m━━━━━━━━━━━━━━━━━━━━\u001b[0m\u001b[37m\u001b[0m \u001b[1m0s\u001b[0m 92ms/step\n",
      "\u001b[1m1/1\u001b[0m \u001b[32m━━━━━━━━━━━━━━━━━━━━\u001b[0m\u001b[37m\u001b[0m \u001b[1m0s\u001b[0m 82ms/step\n",
      "\u001b[1m1/1\u001b[0m \u001b[32m━━━━━━━━━━━━━━━━━━━━\u001b[0m\u001b[37m\u001b[0m \u001b[1m0s\u001b[0m 92ms/step\n",
      "\u001b[1m1/1\u001b[0m \u001b[32m━━━━━━━━━━━━━━━━━━━━\u001b[0m\u001b[37m\u001b[0m \u001b[1m0s\u001b[0m 83ms/step\n",
      "\u001b[1m1/1\u001b[0m \u001b[32m━━━━━━━━━━━━━━━━━━━━\u001b[0m\u001b[37m\u001b[0m \u001b[1m0s\u001b[0m 83ms/step\n",
      "\u001b[1m1/1\u001b[0m \u001b[32m━━━━━━━━━━━━━━━━━━━━\u001b[0m\u001b[37m\u001b[0m \u001b[1m0s\u001b[0m 85ms/step\n",
      "\u001b[1m1/1\u001b[0m \u001b[32m━━━━━━━━━━━━━━━━━━━━\u001b[0m\u001b[37m\u001b[0m \u001b[1m0s\u001b[0m 79ms/step\n",
      "\u001b[1m1/1\u001b[0m \u001b[32m━━━━━━━━━━━━━━━━━━━━\u001b[0m\u001b[37m\u001b[0m \u001b[1m0s\u001b[0m 75ms/step\n",
      "\u001b[1m1/1\u001b[0m \u001b[32m━━━━━━━━━━━━━━━━━━━━\u001b[0m\u001b[37m\u001b[0m \u001b[1m0s\u001b[0m 79ms/step\n",
      "\u001b[1m1/1\u001b[0m \u001b[32m━━━━━━━━━━━━━━━━━━━━\u001b[0m\u001b[37m\u001b[0m \u001b[1m0s\u001b[0m 78ms/step\n",
      "\u001b[1m1/1\u001b[0m \u001b[32m━━━━━━━━━━━━━━━━━━━━\u001b[0m\u001b[37m\u001b[0m \u001b[1m0s\u001b[0m 76ms/step\n",
      "\u001b[1m1/1\u001b[0m \u001b[32m━━━━━━━━━━━━━━━━━━━━\u001b[0m\u001b[37m\u001b[0m \u001b[1m0s\u001b[0m 82ms/step\n",
      "\u001b[1m1/1\u001b[0m \u001b[32m━━━━━━━━━━━━━━━━━━━━\u001b[0m\u001b[37m\u001b[0m \u001b[1m0s\u001b[0m 79ms/step\n",
      "\u001b[1m1/1\u001b[0m \u001b[32m━━━━━━━━━━━━━━━━━━━━\u001b[0m\u001b[37m\u001b[0m \u001b[1m0s\u001b[0m 77ms/step\n",
      "\u001b[1m1/1\u001b[0m \u001b[32m━━━━━━━━━━━━━━━━━━━━\u001b[0m\u001b[37m\u001b[0m \u001b[1m0s\u001b[0m 80ms/step\n",
      "\u001b[1m1/1\u001b[0m \u001b[32m━━━━━━━━━━━━━━━━━━━━\u001b[0m\u001b[37m\u001b[0m \u001b[1m0s\u001b[0m 88ms/step\n",
      "\u001b[1m1/1\u001b[0m \u001b[32m━━━━━━━━━━━━━━━━━━━━\u001b[0m\u001b[37m\u001b[0m \u001b[1m0s\u001b[0m 75ms/step\n",
      "\u001b[1m1/1\u001b[0m \u001b[32m━━━━━━━━━━━━━━━━━━━━\u001b[0m\u001b[37m\u001b[0m \u001b[1m0s\u001b[0m 79ms/step\n",
      "\u001b[1m1/1\u001b[0m \u001b[32m━━━━━━━━━━━━━━━━━━━━\u001b[0m\u001b[37m\u001b[0m \u001b[1m0s\u001b[0m 89ms/step\n",
      "\u001b[1m1/1\u001b[0m \u001b[32m━━━━━━━━━━━━━━━━━━━━\u001b[0m\u001b[37m\u001b[0m \u001b[1m0s\u001b[0m 77ms/step\n",
      "\u001b[1m1/1\u001b[0m \u001b[32m━━━━━━━━━━━━━━━━━━━━\u001b[0m\u001b[37m\u001b[0m \u001b[1m0s\u001b[0m 77ms/step\n",
      "\u001b[1m1/1\u001b[0m \u001b[32m━━━━━━━━━━━━━━━━━━━━\u001b[0m\u001b[37m\u001b[0m \u001b[1m0s\u001b[0m 94ms/step\n",
      "\u001b[1m1/1\u001b[0m \u001b[32m━━━━━━━━━━━━━━━━━━━━\u001b[0m\u001b[37m\u001b[0m \u001b[1m0s\u001b[0m 105ms/step\n",
      "\u001b[1m1/1\u001b[0m \u001b[32m━━━━━━━━━━━━━━━━━━━━\u001b[0m\u001b[37m\u001b[0m \u001b[1m0s\u001b[0m 164ms/step\n",
      "\u001b[1m1/1\u001b[0m \u001b[32m━━━━━━━━━━━━━━━━━━━━\u001b[0m\u001b[37m\u001b[0m \u001b[1m0s\u001b[0m 152ms/step\n",
      "\u001b[1m1/1\u001b[0m \u001b[32m━━━━━━━━━━━━━━━━━━━━\u001b[0m\u001b[37m\u001b[0m \u001b[1m0s\u001b[0m 198ms/step\n",
      "\u001b[1m1/1\u001b[0m \u001b[32m━━━━━━━━━━━━━━━━━━━━\u001b[0m\u001b[37m\u001b[0m \u001b[1m0s\u001b[0m 138ms/step\n",
      "\u001b[1m1/1\u001b[0m \u001b[32m━━━━━━━━━━━━━━━━━━━━\u001b[0m\u001b[37m\u001b[0m \u001b[1m0s\u001b[0m 132ms/step\n"
     ]
    }
   ],
   "source": [
    "a = predict_and_update(model, scaled_30d_data, 30)"
   ]
  },
  {
   "cell_type": "code",
   "execution_count": 22,
   "metadata": {},
   "outputs": [
    {
     "name": "stdout",
     "output_type": "stream",
     "text": [
      "(30, 1, 5)\n",
      "[63787.41  61794.58  59984.63  58401.29  56997.914 55736.047 54595.535\n",
      " 53566.477 52643.242 51821.137 51095.164 50459.477 49907.258 49431.438\n",
      " 49024.73  48679.88  48389.586 48146.75  47944.625 47777.207 47638.227\n",
      " 47518.062 47408.723 47305.05  47204.02  47104.074 47004.78  46906.17\n",
      " 46808.305 46711.184]\n"
     ]
    }
   ],
   "source": [
    "a = np.array(a)\n",
    "print(a.shape)\n",
    "a_reshape = a.reshape(30, 5)\n",
    "a_reshape_result = scaler.inverse_transform(a_reshape)\n",
    "#print(a_reshape_result)\n",
    "a_close_result = a_reshape_result[:, 0]\n",
    "print(a_close_result)"
   ]
  },
  {
   "cell_type": "code",
   "execution_count": 23,
   "metadata": {},
   "outputs": [
    {
     "data": {
      "image/png": "[encoded data removed]",
      "text/plain": [
       "<Figure size 640x480 with 1 Axes>"
      ]
     },
     "metadata": {},
     "output_type": "display_data"
    }
   ],
   "source": [
    "time_result = list(range(len(a_close_result)))\n",
    "\n",
    "fig4 = plt.figure()\n",
    "plt.plot(time_result, a_close_result, label='predict price',linewidth = 1)\n",
    "plt.legend()\n",
    "plt.title('close price')\n",
    "plt.xlabel('time')\n",
    "plt.ylabel('price')\n",
    "plt.show()"
   ]
  },
  {
   "cell_type": "code",
   "execution_count": null,
   "metadata": {},
   "outputs": [],
   "source": []
  },
  {
   "cell_type": "code",
   "execution_count": null,
   "metadata": {},
   "outputs": [],
   "source": []
  },
  {
   "cell_type": "code",
   "execution_count": null,
   "metadata": {},
   "outputs": [],
   "source": []
  },
  {
   "cell_type": "code",
   "execution_count": null,
   "metadata": {},
   "outputs": [],
   "source": []
  },
  {
   "cell_type": "code",
   "execution_count": null,
   "metadata": {},
   "outputs": [],
   "source": []
  },
  {
   "cell_type": "code",
   "execution_count": null,
   "metadata": {},
   "outputs": [],
   "source": []
  }
 ],
 "metadata": {
  "kernelspec": {
   "display_name": "Python imooc_ai",
   "language": "python",
   "name": "imooc_ai"
  },
  "language_info": {
   "codemirror_mode": {
    "name": "ipython",
    "version": 3
   },
   "file_extension": ".py",
   "mimetype": "text/x-python",
   "name": "python",
   "nbconvert_exporter": "python",
   "pygments_lexer": "ipython3",
   "version": "3.10.10"
  }
 },
 "nbformat": 4,
 "nbformat_minor": 2
}
