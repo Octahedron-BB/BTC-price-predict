{
 "cells": [
  {
   "cell_type": "code",
   "execution_count": 2,
   "metadata": {},
   "outputs": [],
   "source": [
    "#MacOS 兼容性操作\n",
    "import ssl\n",
    "import certifi\n",
    "\n",
    "ssl._create_default_https_context = ssl._create_unverified_context\n",
    "\n",
    "import os\n",
    "os.environ['TF_ENABLE_ONEDNN_OPTS'] = '0'\n",
    "\n",
    "import tensorflow as tf\n",
    "physical_devices = tf.config.list_physical_devices('GPU')\n",
    "tf.config.experimental.set_memory_growth(physical_devices[0], True)"
   ]
  },
  {
   "cell_type": "code",
   "execution_count": 3,
   "metadata": {},
   "outputs": [],
   "source": [
    "import pandas as pd \n",
    "import numpy as np\n",
    "from matplotlib import pyplot as plt\n",
    "\n",
    "from keras.models import Sequential\n",
    "from keras.layers import Dense, LSTM\n",
    "\n",
    "import altair as alt"
   ]
  },
  {
   "cell_type": "code",
   "execution_count": 4,
   "metadata": {},
   "outputs": [
    {
     "data": {
      "text/html": [
       "<div>\n",
       "<style scoped>\n",
       "    .dataframe tbody tr th:only-of-type {\n",
       "        vertical-align: middle;\n",
       "    }\n",
       "\n",
       "    .dataframe tbody tr th {\n",
       "        vertical-align: top;\n",
       "    }\n",
       "\n",
       "    .dataframe thead th {\n",
       "        text-align: right;\n",
       "    }\n",
       "</style>\n",
       "<table border=\"1\" class=\"dataframe\">\n",
       "  <thead>\n",
       "    <tr style=\"text-align: right;\">\n",
       "      <th></th>\n",
       "      <th>timeOpen</th>\n",
       "      <th>Close</th>\n",
       "      <th>Open</th>\n",
       "      <th>High</th>\n",
       "      <th>Low</th>\n",
       "      <th>volume</th>\n",
       "      <th>Chg.(%)</th>\n",
       "    </tr>\n",
       "  </thead>\n",
       "  <tbody>\n",
       "    <tr>\n",
       "      <th>0</th>\n",
       "      <td>2014/1/1</td>\n",
       "      <td>815.9</td>\n",
       "      <td>805.9</td>\n",
       "      <td>829.9</td>\n",
       "      <td>771.0</td>\n",
       "      <td>10760.0</td>\n",
       "      <td>0.01</td>\n",
       "    </tr>\n",
       "    <tr>\n",
       "      <th>1</th>\n",
       "      <td>2014/1/2</td>\n",
       "      <td>856.9</td>\n",
       "      <td>815.9</td>\n",
       "      <td>886.2</td>\n",
       "      <td>810.5</td>\n",
       "      <td>12810.0</td>\n",
       "      <td>0.05</td>\n",
       "    </tr>\n",
       "    <tr>\n",
       "      <th>2</th>\n",
       "      <td>2014/1/3</td>\n",
       "      <td>884.3</td>\n",
       "      <td>856.9</td>\n",
       "      <td>888.2</td>\n",
       "      <td>839.4</td>\n",
       "      <td>9710.0</td>\n",
       "      <td>0.03</td>\n",
       "    </tr>\n",
       "    <tr>\n",
       "      <th>3</th>\n",
       "      <td>2014/1/4</td>\n",
       "      <td>924.7</td>\n",
       "      <td>884.3</td>\n",
       "      <td>932.2</td>\n",
       "      <td>848.3</td>\n",
       "      <td>14240.0</td>\n",
       "      <td>0.05</td>\n",
       "    </tr>\n",
       "    <tr>\n",
       "      <th>4</th>\n",
       "      <td>2014/1/5</td>\n",
       "      <td>1014.7</td>\n",
       "      <td>924.7</td>\n",
       "      <td>1029.9</td>\n",
       "      <td>911.4</td>\n",
       "      <td>21370.0</td>\n",
       "      <td>0.10</td>\n",
       "    </tr>\n",
       "  </tbody>\n",
       "</table>\n",
       "</div>"
      ],
      "text/plain": [
       "   timeOpen   Close   Open    High    Low   volume  Chg.(%)\n",
       "0  2014/1/1   815.9  805.9   829.9  771.0  10760.0     0.01\n",
       "1  2014/1/2   856.9  815.9   886.2  810.5  12810.0     0.05\n",
       "2  2014/1/3   884.3  856.9   888.2  839.4   9710.0     0.03\n",
       "3  2014/1/4   924.7  884.3   932.2  848.3  14240.0     0.05\n",
       "4  2014/1/5  1014.7  924.7  1029.9  911.4  21370.0     0.10"
      ]
     },
     "execution_count": 4,
     "metadata": {},
     "output_type": "execute_result"
    }
   ],
   "source": [
    "#load the data\n",
    "data = pd.read_csv('BTC_price_train.csv')\n",
    "data.head()"
   ]
  },
  {
   "cell_type": "code",
   "execution_count": 5,
   "metadata": {},
   "outputs": [
    {
     "name": "stdout",
     "output_type": "stream",
     "text": [
      "| timeOpen   | Close   | Open   | High   | Low   | volume   | Chg.(%)   |\n",
      "|:-----------|:--------|:-------|:-------|:------|:---------|:----------|\n",
      "| 2014/1/1   | 815.9   | 805.9  | 829.9  | 771   | 10760    | 0.01      |\n",
      "| 2014/1/2   | 856.9   | 815.9  | 886.2  | 810.5 | 12810    | 0.05      |\n",
      "| 2014/1/3   | 884.3   | 856.9  | 888.2  | 839.4 | 9710     | 0.03      |\n",
      "| 2014/1/4   | 924.7   | 884.3  | 932.2  | 848.3 | 14240    | 0.05      |\n",
      "| 2014/1/5   | 1014.7  | 924.7  | 1029.9 | 911.4 | 21370    | 0.1       |\n",
      "<class 'pandas.core.frame.DataFrame'>\n",
      "RangeIndex: 3057 entries, 0 to 3056\n",
      "Data columns (total 7 columns):\n",
      " #   Column    Non-Null Count  Dtype  \n",
      "---  ------    --------------  -----  \n",
      " 0   timeOpen  3057 non-null   object \n",
      " 1   Close     3057 non-null   float64\n",
      " 2   Open      3057 non-null   float64\n",
      " 3   High      3057 non-null   float64\n",
      " 4   Low       3057 non-null   float64\n",
      " 5   volume    3057 non-null   float64\n",
      " 6   Chg.(%)   3057 non-null   float64\n",
      "dtypes: float64(6), object(1)\n",
      "memory usage: 167.3+ KB\n",
      "None\n"
     ]
    }
   ],
   "source": [
    "# Display the first 5 rows\n",
    "print(data.head().to_markdown(index=False, numalign=\"left\", stralign=\"left\"))\n",
    "\n",
    "# Print the column names and their data types\n",
    "print(data.info())"
   ]
  },
  {
   "cell_type": "code",
   "execution_count": 6,
   "metadata": {},
   "outputs": [
    {
     "name": "stdout",
     "output_type": "stream",
     "text": [
      "        Close     Open     High      Low    volume\n",
      "0       815.9    805.9    829.9    771.0   10760.0\n",
      "1       856.9    815.9    886.2    810.5   12810.0\n",
      "2       884.3    856.9    888.2    839.4    9710.0\n",
      "3       924.7    884.3    932.2    848.3   14240.0\n",
      "4      1014.7    924.7   1029.9    911.4   21370.0\n",
      "...       ...      ...      ...      ...       ...\n",
      "3052  29068.2  31008.0  32113.6  27835.5  296900.0\n",
      "3053  28976.0  29073.4  30136.7  26500.5  309480.0\n",
      "3054  29284.4  28994.3  31002.7  28755.0  141230.0\n",
      "3055  30080.4  29285.2  30277.4  28666.7   70460.0\n",
      "3056  31308.7  30078.6  31383.8  29499.4   65440.0\n",
      "\n",
      "[3057 rows x 5 columns]\n",
      "(3057, 5)\n"
     ]
    }
   ],
   "source": [
    "#define the data\n",
    "#open_price = data.loc[:, 'Open']\n",
    "close_price = data.loc[:, 'Close']\n",
    "#volume = data.loc[:, 'volume']\n",
    "#high_price = data.loc[:, 'High']\n",
    "#low_price = data.loc[:, 'Low']\n",
    "\n",
    "price = data.drop(['timeOpen', 'Chg.(%)'], axis=1)\n",
    "print(price)\n",
    "print(price.shape)\n",
    "\n"
   ]
  },
  {
   "cell_type": "code",
   "execution_count": 7,
   "metadata": {},
   "outputs": [
    {
     "name": "stdout",
     "output_type": "stream",
     "text": [
      "[[1.04470284e-02 1.02985741e-02 9.73115116e-03 1.02546375e-02\n",
      "  2.34899343e-06]\n",
      " [1.10551899e-02 1.04469044e-02 1.05491025e-02 1.08509251e-02\n",
      "  2.80760643e-06]\n",
      " [1.14616198e-02 1.10550587e-02 1.05781594e-02 1.12871963e-02\n",
      "  2.11409408e-06]\n",
      " ...\n",
      " [4.32726210e-01 4.28418013e-01 4.48094958e-01 4.32697998e-01\n",
      "  3.15369146e-05]\n",
      " [4.44533444e-01 4.32732942e-01 4.37557478e-01 4.31365031e-01\n",
      "  1.57046989e-05]\n",
      " [4.62753073e-01 4.44501469e-01 4.53631748e-01 4.43935378e-01\n",
      "  1.45816563e-05]]\n",
      "(3057, 5)\n"
     ]
    }
   ],
   "source": [
    "#normalize\n",
    "from sklearn.preprocessing import MinMaxScaler\n",
    "\n",
    "scaler = MinMaxScaler(feature_range=(0, 1))\n",
    "scaled_price = scaler.fit_transform(price)\n",
    "\n",
    "print(scaled_price)\n",
    "print(scaled_price.shape)\n",
    "\n",
    "#scaled_close_price = scaled_price[:, 0]\n",
    "#print(scaled_close_price)\n",
    "#print(scaled_close_price.shape)\n"
   ]
  },
  {
   "cell_type": "code",
   "execution_count": 7,
   "metadata": {},
   "outputs": [
    {
     "data": {
      "image/png": "[encoded data removed]",
      "text/plain": [
       "<Figure size 640x480 with 1 Axes>"
      ]
     },
     "metadata": {},
     "output_type": "display_data"
    }
   ],
   "source": [
    "#visualization\n",
    "fig1 = plt.figure()\n",
    "plt.plot(close_price)\n",
    "plt.title('close price')\n",
    "plt.xlabel('time')\n",
    "plt.ylabel('price')\n",
    "plt.show()"
   ]
  },
  {
   "cell_type": "code",
   "execution_count": 12,
   "metadata": {},
   "outputs": [],
   "source": [
    "#define method to extract X and y\n",
    "def extract_data(data, time_step):\n",
    "    X = []\n",
    "    y = []\n",
    "    for i in range(len(data) - time_step):\n",
    "        X.append([a for a in data[i: i + time_step]])\n",
    "        y.append(data[i + time_step, :]) \n",
    "    X = np.array(X)\n",
    "    #转化成RNN格式 (样本数,timestep, 每个数据的维度(特征数))\n",
    "    #X = X.reshape(X.shape[0], time_step, X.shape[2])\n",
    "    y = np.array(y)\n",
    "    return X, y"
   ]
  },
  {
   "cell_type": "code",
   "execution_count": 13,
   "metadata": {},
   "outputs": [
    {
     "name": "stdout",
     "output_type": "stream",
     "text": [
      "(3027, 30, 5) (3027, 5)\n"
     ]
    }
   ],
   "source": [
    "time_step = 30\n",
    "#define X and y\n",
    "X, y = extract_data(scaled_price, time_step)\n",
    "print(X.shape, y.shape)"
   ]
  },
  {
   "cell_type": "code",
   "execution_count": 14,
   "metadata": {},
   "outputs": [
    {
     "data": {
      "text/html": [
       "<pre style=\"white-space:pre;overflow-x:auto;line-height:normal;font-family:Menlo,'DejaVu Sans Mono',consolas,'Courier New',monospace\"><span style=\"font-weight: bold\">Model: \"sequential_1\"</span>\n",
       "</pre>\n"
      ],
      "text/plain": [
       "\u001b[1mModel: \"sequential_1\"\u001b[0m\n"
      ]
     },
     "metadata": {},
     "output_type": "display_data"
    },
    {
     "data": {
      "text/html": [
       "<pre style=\"white-space:pre;overflow-x:auto;line-height:normal;font-family:Menlo,'DejaVu Sans Mono',consolas,'Courier New',monospace\">┏━━━━━━━━━━━━━━━━━━━━━━━━━━━━━━━━━┳━━━━━━━━━━━━━━━━━━━━━━━━┳━━━━━━━━━━━━━━━┓\n",
       "┃<span style=\"font-weight: bold\"> Layer (type)                    </span>┃<span style=\"font-weight: bold\"> Output Shape           </span>┃<span style=\"font-weight: bold\">       Param # </span>┃\n",
       "┡━━━━━━━━━━━━━━━━━━━━━━━━━━━━━━━━━╇━━━━━━━━━━━━━━━━━━━━━━━━╇━━━━━━━━━━━━━━━┩\n",
       "│ lstm_2 (<span style=\"color: #0087ff; text-decoration-color: #0087ff\">LSTM</span>)                   │ (<span style=\"color: #00d7ff; text-decoration-color: #00d7ff\">None</span>, <span style=\"color: #00af00; text-decoration-color: #00af00\">30</span>, <span style=\"color: #00af00; text-decoration-color: #00af00\">50</span>)         │        <span style=\"color: #00af00; text-decoration-color: #00af00\">11,200</span> │\n",
       "├─────────────────────────────────┼────────────────────────┼───────────────┤\n",
       "│ lstm_3 (<span style=\"color: #0087ff; text-decoration-color: #0087ff\">LSTM</span>)                   │ (<span style=\"color: #00d7ff; text-decoration-color: #00d7ff\">None</span>, <span style=\"color: #00af00; text-decoration-color: #00af00\">50</span>)             │        <span style=\"color: #00af00; text-decoration-color: #00af00\">20,200</span> │\n",
       "├─────────────────────────────────┼────────────────────────┼───────────────┤\n",
       "│ dense_2 (<span style=\"color: #0087ff; text-decoration-color: #0087ff\">Dense</span>)                 │ (<span style=\"color: #00d7ff; text-decoration-color: #00d7ff\">None</span>, <span style=\"color: #00af00; text-decoration-color: #00af00\">25</span>)             │         <span style=\"color: #00af00; text-decoration-color: #00af00\">1,275</span> │\n",
       "├─────────────────────────────────┼────────────────────────┼───────────────┤\n",
       "│ dense_3 (<span style=\"color: #0087ff; text-decoration-color: #0087ff\">Dense</span>)                 │ (<span style=\"color: #00d7ff; text-decoration-color: #00d7ff\">None</span>, <span style=\"color: #00af00; text-decoration-color: #00af00\">5</span>)              │           <span style=\"color: #00af00; text-decoration-color: #00af00\">130</span> │\n",
       "└─────────────────────────────────┴────────────────────────┴───────────────┘\n",
       "</pre>\n"
      ],
      "text/plain": [
       "┏━━━━━━━━━━━━━━━━━━━━━━━━━━━━━━━━━┳━━━━━━━━━━━━━━━━━━━━━━━━┳━━━━━━━━━━━━━━━┓\n",
       "┃\u001b[1m \u001b[0m\u001b[1mLayer (type)                   \u001b[0m\u001b[1m \u001b[0m┃\u001b[1m \u001b[0m\u001b[1mOutput Shape          \u001b[0m\u001b[1m \u001b[0m┃\u001b[1m \u001b[0m\u001b[1m      Param #\u001b[0m\u001b[1m \u001b[0m┃\n",
       "┡━━━━━━━━━━━━━━━━━━━━━━━━━━━━━━━━━╇━━━━━━━━━━━━━━━━━━━━━━━━╇━━━━━━━━━━━━━━━┩\n",
       "│ lstm_2 (\u001b[38;5;33mLSTM\u001b[0m)                   │ (\u001b[38;5;45mNone\u001b[0m, \u001b[38;5;34m30\u001b[0m, \u001b[38;5;34m50\u001b[0m)         │        \u001b[38;5;34m11,200\u001b[0m │\n",
       "├─────────────────────────────────┼────────────────────────┼───────────────┤\n",
       "│ lstm_3 (\u001b[38;5;33mLSTM\u001b[0m)                   │ (\u001b[38;5;45mNone\u001b[0m, \u001b[38;5;34m50\u001b[0m)             │        \u001b[38;5;34m20,200\u001b[0m │\n",
       "├─────────────────────────────────┼────────────────────────┼───────────────┤\n",
       "│ dense_2 (\u001b[38;5;33mDense\u001b[0m)                 │ (\u001b[38;5;45mNone\u001b[0m, \u001b[38;5;34m25\u001b[0m)             │         \u001b[38;5;34m1,275\u001b[0m │\n",
       "├─────────────────────────────────┼────────────────────────┼───────────────┤\n",
       "│ dense_3 (\u001b[38;5;33mDense\u001b[0m)                 │ (\u001b[38;5;45mNone\u001b[0m, \u001b[38;5;34m5\u001b[0m)              │           \u001b[38;5;34m130\u001b[0m │\n",
       "└─────────────────────────────────┴────────────────────────┴───────────────┘\n"
      ]
     },
     "metadata": {},
     "output_type": "display_data"
    },
    {
     "data": {
      "text/html": [
       "<pre style=\"white-space:pre;overflow-x:auto;line-height:normal;font-family:Menlo,'DejaVu Sans Mono',consolas,'Courier New',monospace\"><span style=\"font-weight: bold\"> Total params: </span><span style=\"color: #00af00; text-decoration-color: #00af00\">32,805</span> (128.14 KB)\n",
       "</pre>\n"
      ],
      "text/plain": [
       "\u001b[1m Total params: \u001b[0m\u001b[38;5;34m32,805\u001b[0m (128.14 KB)\n"
      ]
     },
     "metadata": {},
     "output_type": "display_data"
    },
    {
     "data": {
      "text/html": [
       "<pre style=\"white-space:pre;overflow-x:auto;line-height:normal;font-family:Menlo,'DejaVu Sans Mono',consolas,'Courier New',monospace\"><span style=\"font-weight: bold\"> Trainable params: </span><span style=\"color: #00af00; text-decoration-color: #00af00\">32,805</span> (128.14 KB)\n",
       "</pre>\n"
      ],
      "text/plain": [
       "\u001b[1m Trainable params: \u001b[0m\u001b[38;5;34m32,805\u001b[0m (128.14 KB)\n"
      ]
     },
     "metadata": {},
     "output_type": "display_data"
    },
    {
     "data": {
      "text/html": [
       "<pre style=\"white-space:pre;overflow-x:auto;line-height:normal;font-family:Menlo,'DejaVu Sans Mono',consolas,'Courier New',monospace\"><span style=\"font-weight: bold\"> Non-trainable params: </span><span style=\"color: #00af00; text-decoration-color: #00af00\">0</span> (0.00 B)\n",
       "</pre>\n"
      ],
      "text/plain": [
       "\u001b[1m Non-trainable params: \u001b[0m\u001b[38;5;34m0\u001b[0m (0.00 B)\n"
      ]
     },
     "metadata": {},
     "output_type": "display_data"
    }
   ],
   "source": [
    "#set up the model\n",
    "\n",
    "model = Sequential()\n",
    "#add LSTM layer\n",
    "model.add(LSTM(units=50, return_sequences=True, input_shape=(time_step, 5), activation='relu'))\n",
    "model.add(LSTM(50, return_sequences=False))\n",
    "model.add(Dense(units=25, activation='linear'))\n",
    "#add output layer\n",
    "model.add(Dense(5))\n",
    "#configure the model\n",
    "model.compile(optimizer='adam', loss='mean_squared_error')\n",
    "model.summary()"
   ]
  },
  {
   "cell_type": "code",
   "execution_count": 15,
   "metadata": {},
   "outputs": [
    {
     "name": "stdout",
     "output_type": "stream",
     "text": [
      "Epoch 1/50\n",
      "\u001b[1m95/95\u001b[0m \u001b[32m━━━━━━━━━━━━━━━━━━━━\u001b[0m\u001b[37m\u001b[0m \u001b[1m53s\u001b[0m 531ms/step - loss: 0.0117\n",
      "Epoch 2/50\n",
      "\u001b[1m95/95\u001b[0m \u001b[32m━━━━━━━━━━━━━━━━━━━━\u001b[0m\u001b[37m\u001b[0m \u001b[1m49s\u001b[0m 518ms/step - loss: 8.4339e-04\n",
      "Epoch 3/50\n",
      "\u001b[1m95/95\u001b[0m \u001b[32m━━━━━━━━━━━━━━━━━━━━\u001b[0m\u001b[37m\u001b[0m \u001b[1m49s\u001b[0m 521ms/step - loss: 8.8009e-04\n",
      "Epoch 4/50\n",
      "\u001b[1m95/95\u001b[0m \u001b[32m━━━━━━━━━━━━━━━━━━━━\u001b[0m\u001b[37m\u001b[0m \u001b[1m51s\u001b[0m 542ms/step - loss: 5.9884e-04\n",
      "Epoch 5/50\n",
      "\u001b[1m95/95\u001b[0m \u001b[32m━━━━━━━━━━━━━━━━━━━━\u001b[0m\u001b[37m\u001b[0m \u001b[1m53s\u001b[0m 562ms/step - loss: 5.4917e-04\n",
      "Epoch 6/50\n",
      "\u001b[1m95/95\u001b[0m \u001b[32m━━━━━━━━━━━━━━━━━━━━\u001b[0m\u001b[37m\u001b[0m \u001b[1m55s\u001b[0m 579ms/step - loss: 5.4606e-04\n",
      "Epoch 7/50\n",
      "\u001b[1m95/95\u001b[0m \u001b[32m━━━━━━━━━━━━━━━━━━━━\u001b[0m\u001b[37m\u001b[0m \u001b[1m52s\u001b[0m 548ms/step - loss: 5.2931e-04\n",
      "Epoch 8/50\n",
      "\u001b[1m95/95\u001b[0m \u001b[32m━━━━━━━━━━━━━━━━━━━━\u001b[0m\u001b[37m\u001b[0m \u001b[1m50s\u001b[0m 522ms/step - loss: 4.4898e-04\n",
      "Epoch 9/50\n",
      "\u001b[1m95/95\u001b[0m \u001b[32m━━━━━━━━━━━━━━━━━━━━\u001b[0m\u001b[37m\u001b[0m \u001b[1m52s\u001b[0m 540ms/step - loss: 3.3707e-04\n",
      "Epoch 10/50\n",
      "\u001b[1m95/95\u001b[0m \u001b[32m━━━━━━━━━━━━━━━━━━━━\u001b[0m\u001b[37m\u001b[0m \u001b[1m49s\u001b[0m 512ms/step - loss: 4.4677e-04\n",
      "Epoch 11/50\n",
      "\u001b[1m95/95\u001b[0m \u001b[32m━━━━━━━━━━━━━━━━━━━━\u001b[0m\u001b[37m\u001b[0m \u001b[1m49s\u001b[0m 513ms/step - loss: 3.0582e-04\n",
      "Epoch 12/50\n",
      "\u001b[1m95/95\u001b[0m \u001b[32m━━━━━━━━━━━━━━━━━━━━\u001b[0m\u001b[37m\u001b[0m \u001b[1m49s\u001b[0m 514ms/step - loss: 4.8709e-04\n",
      "Epoch 13/50\n",
      "\u001b[1m95/95\u001b[0m \u001b[32m━━━━━━━━━━━━━━━━━━━━\u001b[0m\u001b[37m\u001b[0m \u001b[1m49s\u001b[0m 514ms/step - loss: 2.7971e-04\n",
      "Epoch 14/50\n",
      "\u001b[1m95/95\u001b[0m \u001b[32m━━━━━━━━━━━━━━━━━━━━\u001b[0m\u001b[37m\u001b[0m \u001b[1m49s\u001b[0m 512ms/step - loss: 5.1268e-04\n",
      "Epoch 15/50\n",
      "\u001b[1m95/95\u001b[0m \u001b[32m━━━━━━━━━━━━━━━━━━━━\u001b[0m\u001b[37m\u001b[0m \u001b[1m51s\u001b[0m 533ms/step - loss: 3.9038e-04\n",
      "Epoch 16/50\n",
      "\u001b[1m95/95\u001b[0m \u001b[32m━━━━━━━━━━━━━━━━━━━━\u001b[0m\u001b[37m\u001b[0m \u001b[1m52s\u001b[0m 544ms/step - loss: 2.7953e-04\n",
      "Epoch 17/50\n",
      "\u001b[1m95/95\u001b[0m \u001b[32m━━━━━━━━━━━━━━━━━━━━\u001b[0m\u001b[37m\u001b[0m \u001b[1m50s\u001b[0m 531ms/step - loss: 2.7321e-04\n",
      "Epoch 18/50\n",
      "\u001b[1m95/95\u001b[0m \u001b[32m━━━━━━━━━━━━━━━━━━━━\u001b[0m\u001b[37m\u001b[0m \u001b[1m51s\u001b[0m 541ms/step - loss: 3.0136e-04\n",
      "Epoch 19/50\n",
      "\u001b[1m95/95\u001b[0m \u001b[32m━━━━━━━━━━━━━━━━━━━━\u001b[0m\u001b[37m\u001b[0m \u001b[1m51s\u001b[0m 539ms/step - loss: 3.0430e-04\n",
      "Epoch 20/50\n",
      "\u001b[1m95/95\u001b[0m \u001b[32m━━━━━━━━━━━━━━━━━━━━\u001b[0m\u001b[37m\u001b[0m \u001b[1m50s\u001b[0m 530ms/step - loss: 2.5214e-04\n",
      "Epoch 21/50\n",
      "\u001b[1m95/95\u001b[0m \u001b[32m━━━━━━━━━━━━━━━━━━━━\u001b[0m\u001b[37m\u001b[0m \u001b[1m50s\u001b[0m 530ms/step - loss: 2.8610e-04\n",
      "Epoch 22/50\n",
      "\u001b[1m95/95\u001b[0m \u001b[32m━━━━━━━━━━━━━━━━━━━━\u001b[0m\u001b[37m\u001b[0m \u001b[1m50s\u001b[0m 527ms/step - loss: 2.0498e-04\n",
      "Epoch 23/50\n",
      "\u001b[1m95/95\u001b[0m \u001b[32m━━━━━━━━━━━━━━━━━━━━\u001b[0m\u001b[37m\u001b[0m \u001b[1m50s\u001b[0m 527ms/step - loss: 2.4697e-04\n",
      "Epoch 24/50\n",
      "\u001b[1m95/95\u001b[0m \u001b[32m━━━━━━━━━━━━━━━━━━━━\u001b[0m\u001b[37m\u001b[0m \u001b[1m50s\u001b[0m 529ms/step - loss: 2.5748e-04\n",
      "Epoch 25/50\n",
      "\u001b[1m95/95\u001b[0m \u001b[32m━━━━━━━━━━━━━━━━━━━━\u001b[0m\u001b[37m\u001b[0m \u001b[1m50s\u001b[0m 529ms/step - loss: 2.2167e-04\n",
      "Epoch 26/50\n",
      "\u001b[1m95/95\u001b[0m \u001b[32m━━━━━━━━━━━━━━━━━━━━\u001b[0m\u001b[37m\u001b[0m \u001b[1m51s\u001b[0m 533ms/step - loss: 2.7599e-04\n",
      "Epoch 27/50\n",
      "\u001b[1m95/95\u001b[0m \u001b[32m━━━━━━━━━━━━━━━━━━━━\u001b[0m\u001b[37m\u001b[0m \u001b[1m51s\u001b[0m 532ms/step - loss: 2.2947e-04\n",
      "Epoch 28/50\n",
      "\u001b[1m95/95\u001b[0m \u001b[32m━━━━━━━━━━━━━━━━━━━━\u001b[0m\u001b[37m\u001b[0m \u001b[1m50s\u001b[0m 530ms/step - loss: 2.2518e-04\n",
      "Epoch 29/50\n",
      "\u001b[1m95/95\u001b[0m \u001b[32m━━━━━━━━━━━━━━━━━━━━\u001b[0m\u001b[37m\u001b[0m \u001b[1m51s\u001b[0m 534ms/step - loss: 2.7611e-04\n",
      "Epoch 30/50\n",
      "\u001b[1m95/95\u001b[0m \u001b[32m━━━━━━━━━━━━━━━━━━━━\u001b[0m\u001b[37m\u001b[0m \u001b[1m50s\u001b[0m 530ms/step - loss: 3.6174e-04\n",
      "Epoch 31/50\n",
      "\u001b[1m95/95\u001b[0m \u001b[32m━━━━━━━━━━━━━━━━━━━━\u001b[0m\u001b[37m\u001b[0m \u001b[1m51s\u001b[0m 533ms/step - loss: 2.1902e-04\n",
      "Epoch 32/50\n",
      "\u001b[1m95/95\u001b[0m \u001b[32m━━━━━━━━━━━━━━━━━━━━\u001b[0m\u001b[37m\u001b[0m \u001b[1m51s\u001b[0m 534ms/step - loss: 2.3117e-04\n",
      "Epoch 33/50\n",
      "\u001b[1m95/95\u001b[0m \u001b[32m━━━━━━━━━━━━━━━━━━━━\u001b[0m\u001b[37m\u001b[0m \u001b[1m51s\u001b[0m 534ms/step - loss: 1.8706e-04\n",
      "Epoch 34/50\n",
      "\u001b[1m95/95\u001b[0m \u001b[32m━━━━━━━━━━━━━━━━━━━━\u001b[0m\u001b[37m\u001b[0m \u001b[1m51s\u001b[0m 538ms/step - loss: 1.9476e-04\n",
      "Epoch 35/50\n",
      "\u001b[1m95/95\u001b[0m \u001b[32m━━━━━━━━━━━━━━━━━━━━\u001b[0m\u001b[37m\u001b[0m \u001b[1m51s\u001b[0m 535ms/step - loss: 1.7430e-04\n",
      "Epoch 36/50\n",
      "\u001b[1m95/95\u001b[0m \u001b[32m━━━━━━━━━━━━━━━━━━━━\u001b[0m\u001b[37m\u001b[0m \u001b[1m51s\u001b[0m 533ms/step - loss: 2.0427e-04\n",
      "Epoch 37/50\n",
      "\u001b[1m95/95\u001b[0m \u001b[32m━━━━━━━━━━━━━━━━━━━━\u001b[0m\u001b[37m\u001b[0m \u001b[1m51s\u001b[0m 536ms/step - loss: 1.3875e-04\n",
      "Epoch 38/50\n",
      "\u001b[1m95/95\u001b[0m \u001b[32m━━━━━━━━━━━━━━━━━━━━\u001b[0m\u001b[37m\u001b[0m \u001b[1m50s\u001b[0m 531ms/step - loss: 2.1775e-04\n",
      "Epoch 39/50\n",
      "\u001b[1m95/95\u001b[0m \u001b[32m━━━━━━━━━━━━━━━━━━━━\u001b[0m\u001b[37m\u001b[0m \u001b[1m51s\u001b[0m 537ms/step - loss: 2.6531e-04\n",
      "Epoch 40/50\n",
      "\u001b[1m95/95\u001b[0m \u001b[32m━━━━━━━━━━━━━━━━━━━━\u001b[0m\u001b[37m\u001b[0m \u001b[1m51s\u001b[0m 536ms/step - loss: 3.3189e-04\n",
      "Epoch 41/50\n",
      "\u001b[1m95/95\u001b[0m \u001b[32m━━━━━━━━━━━━━━━━━━━━\u001b[0m\u001b[37m\u001b[0m \u001b[1m51s\u001b[0m 538ms/step - loss: 1.5393e-04\n",
      "Epoch 42/50\n",
      "\u001b[1m95/95\u001b[0m \u001b[32m━━━━━━━━━━━━━━━━━━━━\u001b[0m\u001b[37m\u001b[0m \u001b[1m51s\u001b[0m 542ms/step - loss: 1.7594e-04\n",
      "Epoch 43/50\n",
      "\u001b[1m95/95\u001b[0m \u001b[32m━━━━━━━━━━━━━━━━━━━━\u001b[0m\u001b[37m\u001b[0m \u001b[1m51s\u001b[0m 537ms/step - loss: 3.0268e-04\n",
      "Epoch 44/50\n",
      "\u001b[1m95/95\u001b[0m \u001b[32m━━━━━━━━━━━━━━━━━━━━\u001b[0m\u001b[37m\u001b[0m \u001b[1m51s\u001b[0m 537ms/step - loss: 2.5315e-04\n",
      "Epoch 45/50\n",
      "\u001b[1m95/95\u001b[0m \u001b[32m━━━━━━━━━━━━━━━━━━━━\u001b[0m\u001b[37m\u001b[0m \u001b[1m51s\u001b[0m 539ms/step - loss: 1.8768e-04\n",
      "Epoch 46/50\n",
      "\u001b[1m95/95\u001b[0m \u001b[32m━━━━━━━━━━━━━━━━━━━━\u001b[0m\u001b[37m\u001b[0m \u001b[1m51s\u001b[0m 538ms/step - loss: 1.8313e-04\n",
      "Epoch 47/50\n",
      "\u001b[1m95/95\u001b[0m \u001b[32m━━━━━━━━━━━━━━━━━━━━\u001b[0m\u001b[37m\u001b[0m \u001b[1m51s\u001b[0m 541ms/step - loss: 2.2233e-04\n",
      "Epoch 48/50\n",
      "\u001b[1m95/95\u001b[0m \u001b[32m━━━━━━━━━━━━━━━━━━━━\u001b[0m\u001b[37m\u001b[0m \u001b[1m51s\u001b[0m 541ms/step - loss: 2.1303e-04\n",
      "Epoch 49/50\n",
      "\u001b[1m95/95\u001b[0m \u001b[32m━━━━━━━━━━━━━━━━━━━━\u001b[0m\u001b[37m\u001b[0m \u001b[1m51s\u001b[0m 535ms/step - loss: 2.2865e-04\n",
      "Epoch 50/50\n",
      "\u001b[1m95/95\u001b[0m \u001b[32m━━━━━━━━━━━━━━━━━━━━\u001b[0m\u001b[37m\u001b[0m \u001b[1m52s\u001b[0m 543ms/step - loss: 2.2255e-04\n"
     ]
    },
    {
     "data": {
      "text/plain": [
       "<keras.src.callbacks.history.History at 0x349ef7520>"
      ]
     },
     "execution_count": 15,
     "metadata": {},
     "output_type": "execute_result"
    }
   ],
   "source": [
    "#train the model\n",
    "model.fit(X, y, batch_size=32, epochs=50)"
   ]
  },
  {
   "cell_type": "code",
   "execution_count": 16,
   "metadata": {},
   "outputs": [
    {
     "name": "stderr",
     "output_type": "stream",
     "text": [
      "WARNING:absl:You are saving your model as an HDF5 file via `model.save()` or `keras.saving.save_model(model)`. This file format is considered legacy. We recommend using instead the native Keras format, e.g. `model.save('my_model.keras')` or `keras.saving.save_model(model, 'my_model.keras')`. \n"
     ]
    }
   ],
   "source": [
    "\n",
    "\n",
    "model.save('BTC_predict_test3.h5')\n",
    "model.save('BTC_predict_test3.keras')"
   ]
  },
  {
   "cell_type": "code",
   "execution_count": 18,
   "metadata": {},
   "outputs": [
    {
     "name": "stdout",
     "output_type": "stream",
     "text": [
      "\u001b[1m95/95\u001b[0m \u001b[32m━━━━━━━━━━━━━━━━━━━━\u001b[0m\u001b[37m\u001b[0m \u001b[1m8s\u001b[0m 87ms/step\n",
      "(3027, 5)\n",
      "(3027,)\n"
     ]
    }
   ],
   "source": [
    "#make prediction on the training data\n",
    "y_train_predictions = model.predict(X)\n",
    "\n",
    "# 反归一化预测结果\n",
    "y_train_predictions = scaler.inverse_transform(y_train_predictions)\n",
    "y_train_predictions_close = y_train_predictions[:, 0]\n",
    "\n",
    "print(y_train_predictions.shape)\n",
    "print(y_train_predictions_close.shape)"
   ]
  },
  {
   "cell_type": "code",
   "execution_count": 30,
   "metadata": {},
   "outputs": [
    {
     "name": "stdout",
     "output_type": "stream",
     "text": [
      "(3027, 5)\n",
      "[[   938.8    941.4    954.7    924.6   4310. ]\n",
      " [   940.4    938.8    969.2    927.8   4370. ]\n",
      " [   953.3    940.4    959.4    934.4   1580. ]\n",
      " ...\n",
      " [ 29284.4  28994.3  31002.7  28755.  141230. ]\n",
      " [ 30080.4  29285.2  30277.4  28666.7  70460. ]\n",
      " [ 31308.7  30078.6  31383.8  29499.4  65440. ]]\n",
      "[  938.8   940.4   953.3 ... 29284.4 30080.4 31308.7]\n",
      "[0, 1, 2, 3, 4, 5, 6, 7, 8, 9, 10, 11, 12, 13, 14, 15, 16, 17, 18, 19, 20, 21, 22, 23, 24, 25, 26, 27, 28, 29, 30, 31, 32, 33, 34, 35, 36, 37, 38, 39, 40, 41, 42, 43, 44, 45, 46, 47, 48, 49, 50, 51, 52, 53, 54, 55, 56, 57, 58, 59, 60, 61, 62, 63, 64, 65, 66, 67, 68, 69, 70, 71, 72, 73, 74, 75, 76, 77, 78, 79, 80, 81, 82, 83, 84, 85, 86, 87, 88, 89, 90, 91, 92, 93, 94, 95, 96, 97, 98, 99, 100, 101, 102, 103, 104, 105, 106, 107, 108, 109, 110, 111, 112, 113, 114, 115, 116, 117, 118, 119, 120, 121, 122, 123, 124, 125, 126, 127, 128, 129, 130, 131, 132, 133, 134, 135, 136, 137, 138, 139, 140, 141, 142, 143, 144, 145, 146, 147, 148, 149, 150, 151, 152, 153, 154, 155, 156, 157, 158, 159, 160, 161, 162, 163, 164, 165, 166, 167, 168, 169, 170, 171, 172, 173, 174, 175, 176, 177, 178, 179, 180, 181, 182, 183, 184, 185, 186, 187, 188, 189, 190, 191, 192, 193, 194, 195, 196, 197, 198, 199, 200, 201, 202, 203, 204, 205, 206, 207, 208, 209, 210, 211, 212, 213, 214, 215, 216, 217, 218, 219, 220, 221, 222, 223, 224, 225, 226, 227, 228, 229, 230, 231, 232, 233, 234, 235, 236, 237, 238, 239, 240, 241, 242, 243, 244, 245, 246, 247, 248, 249, 250, 251, 252, 253, 254, 255, 256, 257, 258, 259, 260, 261, 262, 263, 264, 265, 266, 267, 268, 269, 270, 271, 272, 273, 274, 275, 276, 277, 278, 279, 280, 281, 282, 283, 284, 285, 286, 287, 288, 289, 290, 291, 292, 293, 294, 295, 296, 297, 298, 299, 300, 301, 302, 303, 304, 305, 306, 307, 308, 309, 310, 311, 312, 313, 314, 315, 316, 317, 318, 319, 320, 321, 322, 323, 324, 325, 326, 327, 328, 329, 330, 331, 332, 333, 334, 335, 336, 337, 338, 339, 340, 341, 342, 343, 344, 345, 346, 347, 348, 349, 350, 351, 352, 353, 354, 355, 356, 357, 358, 359, 360, 361, 362, 363, 364, 365, 366, 367, 368, 369, 370, 371, 372, 373, 374, 375, 376, 377, 378, 379, 380, 381, 382, 383, 384, 385, 386, 387, 388, 389, 390, 391, 392, 393, 394, 395, 396, 397, 398, 399, 400, 401, 402, 403, 404, 405, 406, 407, 408, 409, 410, 411, 412, 413, 414, 415, 416, 417, 418, 419, 420, 421, 422, 423, 424, 425, 426, 427, 428, 429, 430, 431, 432, 433, 434, 435, 436, 437, 438, 439, 440, 441, 442, 443, 444, 445, 446, 447, 448, 449, 450, 451, 452, 453, 454, 455, 456, 457, 458, 459, 460, 461, 462, 463, 464, 465, 466, 467, 468, 469, 470, 471, 472, 473, 474, 475, 476, 477, 478, 479, 480, 481, 482, 483, 484, 485, 486, 487, 488, 489, 490, 491, 492, 493, 494, 495, 496, 497, 498, 499, 500, 501, 502, 503, 504, 505, 506, 507, 508, 509, 510, 511, 512, 513, 514, 515, 516, 517, 518, 519, 520, 521, 522, 523, 524, 525, 526, 527, 528, 529, 530, 531, 532, 533, 534, 535, 536, 537, 538, 539, 540, 541, 542, 543, 544, 545, 546, 547, 548, 549, 550, 551, 552, 553, 554, 555, 556, 557, 558, 559, 560, 561, 562, 563, 564, 565, 566, 567, 568, 569, 570, 571, 572, 573, 574, 575, 576, 577, 578, 579, 580, 581, 582, 583, 584, 585, 586, 587, 588, 589, 590, 591, 592, 593, 594, 595, 596, 597, 598, 599, 600, 601, 602, 603, 604, 605, 606, 607, 608, 609, 610, 611, 612, 613, 614, 615, 616, 617, 618, 619, 620, 621, 622, 623, 624, 625, 626, 627, 628, 629, 630, 631, 632, 633, 634, 635, 636, 637, 638, 639, 640, 641, 642, 643, 644, 645, 646, 647, 648, 649, 650, 651, 652, 653, 654, 655, 656, 657, 658, 659, 660, 661, 662, 663, 664, 665, 666, 667, 668, 669, 670, 671, 672, 673, 674, 675, 676, 677, 678, 679, 680, 681, 682, 683, 684, 685, 686, 687, 688, 689, 690, 691, 692, 693, 694, 695, 696, 697, 698, 699, 700, 701, 702, 703, 704, 705, 706, 707, 708, 709, 710, 711, 712, 713, 714, 715, 716, 717, 718, 719, 720, 721, 722, 723, 724, 725, 726, 727, 728, 729, 730, 731, 732, 733, 734, 735, 736, 737, 738, 739, 740, 741, 742, 743, 744, 745, 746, 747, 748, 749, 750, 751, 752, 753, 754, 755, 756, 757, 758, 759, 760, 761, 762, 763, 764, 765, 766, 767, 768, 769, 770, 771, 772, 773, 774, 775, 776, 777, 778, 779, 780, 781, 782, 783, 784, 785, 786, 787, 788, 789, 790, 791, 792, 793, 794, 795, 796, 797, 798, 799, 800, 801, 802, 803, 804, 805, 806, 807, 808, 809, 810, 811, 812, 813, 814, 815, 816, 817, 818, 819, 820, 821, 822, 823, 824, 825, 826, 827, 828, 829, 830, 831, 832, 833, 834, 835, 836, 837, 838, 839, 840, 841, 842, 843, 844, 845, 846, 847, 848, 849, 850, 851, 852, 853, 854, 855, 856, 857, 858, 859, 860, 861, 862, 863, 864, 865, 866, 867, 868, 869, 870, 871, 872, 873, 874, 875, 876, 877, 878, 879, 880, 881, 882, 883, 884, 885, 886, 887, 888, 889, 890, 891, 892, 893, 894, 895, 896, 897, 898, 899, 900, 901, 902, 903, 904, 905, 906, 907, 908, 909, 910, 911, 912, 913, 914, 915, 916, 917, 918, 919, 920, 921, 922, 923, 924, 925, 926, 927, 928, 929, 930, 931, 932, 933, 934, 935, 936, 937, 938, 939, 940, 941, 942, 943, 944, 945, 946, 947, 948, 949, 950, 951, 952, 953, 954, 955, 956, 957, 958, 959, 960, 961, 962, 963, 964, 965, 966, 967, 968, 969, 970, 971, 972, 973, 974, 975, 976, 977, 978, 979, 980, 981, 982, 983, 984, 985, 986, 987, 988, 989, 990, 991, 992, 993, 994, 995, 996, 997, 998, 999, 1000, 1001, 1002, 1003, 1004, 1005, 1006, 1007, 1008, 1009, 1010, 1011, 1012, 1013, 1014, 1015, 1016, 1017, 1018, 1019, 1020, 1021, 1022, 1023, 1024, 1025, 1026, 1027, 1028, 1029, 1030, 1031, 1032, 1033, 1034, 1035, 1036, 1037, 1038, 1039, 1040, 1041, 1042, 1043, 1044, 1045, 1046, 1047, 1048, 1049, 1050, 1051, 1052, 1053, 1054, 1055, 1056, 1057, 1058, 1059, 1060, 1061, 1062, 1063, 1064, 1065, 1066, 1067, 1068, 1069, 1070, 1071, 1072, 1073, 1074, 1075, 1076, 1077, 1078, 1079, 1080, 1081, 1082, 1083, 1084, 1085, 1086, 1087, 1088, 1089, 1090, 1091, 1092, 1093, 1094, 1095, 1096, 1097, 1098, 1099, 1100, 1101, 1102, 1103, 1104, 1105, 1106, 1107, 1108, 1109, 1110, 1111, 1112, 1113, 1114, 1115, 1116, 1117, 1118, 1119, 1120, 1121, 1122, 1123, 1124, 1125, 1126, 1127, 1128, 1129, 1130, 1131, 1132, 1133, 1134, 1135, 1136, 1137, 1138, 1139, 1140, 1141, 1142, 1143, 1144, 1145, 1146, 1147, 1148, 1149, 1150, 1151, 1152, 1153, 1154, 1155, 1156, 1157, 1158, 1159, 1160, 1161, 1162, 1163, 1164, 1165, 1166, 1167, 1168, 1169, 1170, 1171, 1172, 1173, 1174, 1175, 1176, 1177, 1178, 1179, 1180, 1181, 1182, 1183, 1184, 1185, 1186, 1187, 1188, 1189, 1190, 1191, 1192, 1193, 1194, 1195, 1196, 1197, 1198, 1199, 1200, 1201, 1202, 1203, 1204, 1205, 1206, 1207, 1208, 1209, 1210, 1211, 1212, 1213, 1214, 1215, 1216, 1217, 1218, 1219, 1220, 1221, 1222, 1223, 1224, 1225, 1226, 1227, 1228, 1229, 1230, 1231, 1232, 1233, 1234, 1235, 1236, 1237, 1238, 1239, 1240, 1241, 1242, 1243, 1244, 1245, 1246, 1247, 1248, 1249, 1250, 1251, 1252, 1253, 1254, 1255, 1256, 1257, 1258, 1259, 1260, 1261, 1262, 1263, 1264, 1265, 1266, 1267, 1268, 1269, 1270, 1271, 1272, 1273, 1274, 1275, 1276, 1277, 1278, 1279, 1280, 1281, 1282, 1283, 1284, 1285, 1286, 1287, 1288, 1289, 1290, 1291, 1292, 1293, 1294, 1295, 1296, 1297, 1298, 1299, 1300, 1301, 1302, 1303, 1304, 1305, 1306, 1307, 1308, 1309, 1310, 1311, 1312, 1313, 1314, 1315, 1316, 1317, 1318, 1319, 1320, 1321, 1322, 1323, 1324, 1325, 1326, 1327, 1328, 1329, 1330, 1331, 1332, 1333, 1334, 1335, 1336, 1337, 1338, 1339, 1340, 1341, 1342, 1343, 1344, 1345, 1346, 1347, 1348, 1349, 1350, 1351, 1352, 1353, 1354, 1355, 1356, 1357, 1358, 1359, 1360, 1361, 1362, 1363, 1364, 1365, 1366, 1367, 1368, 1369, 1370, 1371, 1372, 1373, 1374, 1375, 1376, 1377, 1378, 1379, 1380, 1381, 1382, 1383, 1384, 1385, 1386, 1387, 1388, 1389, 1390, 1391, 1392, 1393, 1394, 1395, 1396, 1397, 1398, 1399, 1400, 1401, 1402, 1403, 1404, 1405, 1406, 1407, 1408, 1409, 1410, 1411, 1412, 1413, 1414, 1415, 1416, 1417, 1418, 1419, 1420, 1421, 1422, 1423, 1424, 1425, 1426, 1427, 1428, 1429, 1430, 1431, 1432, 1433, 1434, 1435, 1436, 1437, 1438, 1439, 1440, 1441, 1442, 1443, 1444, 1445, 1446, 1447, 1448, 1449, 1450, 1451, 1452, 1453, 1454, 1455, 1456, 1457, 1458, 1459, 1460, 1461, 1462, 1463, 1464, 1465, 1466, 1467, 1468, 1469, 1470, 1471, 1472, 1473, 1474, 1475, 1476, 1477, 1478, 1479, 1480, 1481, 1482, 1483, 1484, 1485, 1486, 1487, 1488, 1489, 1490, 1491, 1492, 1493, 1494, 1495, 1496, 1497, 1498, 1499, 1500, 1501, 1502, 1503, 1504, 1505, 1506, 1507, 1508, 1509, 1510, 1511, 1512, 1513, 1514, 1515, 1516, 1517, 1518, 1519, 1520, 1521, 1522, 1523, 1524, 1525, 1526, 1527, 1528, 1529, 1530, 1531, 1532, 1533, 1534, 1535, 1536, 1537, 1538, 1539, 1540, 1541, 1542, 1543, 1544, 1545, 1546, 1547, 1548, 1549, 1550, 1551, 1552, 1553, 1554, 1555, 1556, 1557, 1558, 1559, 1560, 1561, 1562, 1563, 1564, 1565, 1566, 1567, 1568, 1569, 1570, 1571, 1572, 1573, 1574, 1575, 1576, 1577, 1578, 1579, 1580, 1581, 1582, 1583, 1584, 1585, 1586, 1587, 1588, 1589, 1590, 1591, 1592, 1593, 1594, 1595, 1596, 1597, 1598, 1599, 1600, 1601, 1602, 1603, 1604, 1605, 1606, 1607, 1608, 1609, 1610, 1611, 1612, 1613, 1614, 1615, 1616, 1617, 1618, 1619, 1620, 1621, 1622, 1623, 1624, 1625, 1626, 1627, 1628, 1629, 1630, 1631, 1632, 1633, 1634, 1635, 1636, 1637, 1638, 1639, 1640, 1641, 1642, 1643, 1644, 1645, 1646, 1647, 1648, 1649, 1650, 1651, 1652, 1653, 1654, 1655, 1656, 1657, 1658, 1659, 1660, 1661, 1662, 1663, 1664, 1665, 1666, 1667, 1668, 1669, 1670, 1671, 1672, 1673, 1674, 1675, 1676, 1677, 1678, 1679, 1680, 1681, 1682, 1683, 1684, 1685, 1686, 1687, 1688, 1689, 1690, 1691, 1692, 1693, 1694, 1695, 1696, 1697, 1698, 1699, 1700, 1701, 1702, 1703, 1704, 1705, 1706, 1707, 1708, 1709, 1710, 1711, 1712, 1713, 1714, 1715, 1716, 1717, 1718, 1719, 1720, 1721, 1722, 1723, 1724, 1725, 1726, 1727, 1728, 1729, 1730, 1731, 1732, 1733, 1734, 1735, 1736, 1737, 1738, 1739, 1740, 1741, 1742, 1743, 1744, 1745, 1746, 1747, 1748, 1749, 1750, 1751, 1752, 1753, 1754, 1755, 1756, 1757, 1758, 1759, 1760, 1761, 1762, 1763, 1764, 1765, 1766, 1767, 1768, 1769, 1770, 1771, 1772, 1773, 1774, 1775, 1776, 1777, 1778, 1779, 1780, 1781, 1782, 1783, 1784, 1785, 1786, 1787, 1788, 1789, 1790, 1791, 1792, 1793, 1794, 1795, 1796, 1797, 1798, 1799, 1800, 1801, 1802, 1803, 1804, 1805, 1806, 1807, 1808, 1809, 1810, 1811, 1812, 1813, 1814, 1815, 1816, 1817, 1818, 1819, 1820, 1821, 1822, 1823, 1824, 1825, 1826, 1827, 1828, 1829, 1830, 1831, 1832, 1833, 1834, 1835, 1836, 1837, 1838, 1839, 1840, 1841, 1842, 1843, 1844, 1845, 1846, 1847, 1848, 1849, 1850, 1851, 1852, 1853, 1854, 1855, 1856, 1857, 1858, 1859, 1860, 1861, 1862, 1863, 1864, 1865, 1866, 1867, 1868, 1869, 1870, 1871, 1872, 1873, 1874, 1875, 1876, 1877, 1878, 1879, 1880, 1881, 1882, 1883, 1884, 1885, 1886, 1887, 1888, 1889, 1890, 1891, 1892, 1893, 1894, 1895, 1896, 1897, 1898, 1899, 1900, 1901, 1902, 1903, 1904, 1905, 1906, 1907, 1908, 1909, 1910, 1911, 1912, 1913, 1914, 1915, 1916, 1917, 1918, 1919, 1920, 1921, 1922, 1923, 1924, 1925, 1926, 1927, 1928, 1929, 1930, 1931, 1932, 1933, 1934, 1935, 1936, 1937, 1938, 1939, 1940, 1941, 1942, 1943, 1944, 1945, 1946, 1947, 1948, 1949, 1950, 1951, 1952, 1953, 1954, 1955, 1956, 1957, 1958, 1959, 1960, 1961, 1962, 1963, 1964, 1965, 1966, 1967, 1968, 1969, 1970, 1971, 1972, 1973, 1974, 1975, 1976, 1977, 1978, 1979, 1980, 1981, 1982, 1983, 1984, 1985, 1986, 1987, 1988, 1989, 1990, 1991, 1992, 1993, 1994, 1995, 1996, 1997, 1998, 1999, 2000, 2001, 2002, 2003, 2004, 2005, 2006, 2007, 2008, 2009, 2010, 2011, 2012, 2013, 2014, 2015, 2016, 2017, 2018, 2019, 2020, 2021, 2022, 2023, 2024, 2025, 2026, 2027, 2028, 2029, 2030, 2031, 2032, 2033, 2034, 2035, 2036, 2037, 2038, 2039, 2040, 2041, 2042, 2043, 2044, 2045, 2046, 2047, 2048, 2049, 2050, 2051, 2052, 2053, 2054, 2055, 2056, 2057, 2058, 2059, 2060, 2061, 2062, 2063, 2064, 2065, 2066, 2067, 2068, 2069, 2070, 2071, 2072, 2073, 2074, 2075, 2076, 2077, 2078, 2079, 2080, 2081, 2082, 2083, 2084, 2085, 2086, 2087, 2088, 2089, 2090, 2091, 2092, 2093, 2094, 2095, 2096, 2097, 2098, 2099, 2100, 2101, 2102, 2103, 2104, 2105, 2106, 2107, 2108, 2109, 2110, 2111, 2112, 2113, 2114, 2115, 2116, 2117, 2118, 2119, 2120, 2121, 2122, 2123, 2124, 2125, 2126, 2127, 2128, 2129, 2130, 2131, 2132, 2133, 2134, 2135, 2136, 2137, 2138, 2139, 2140, 2141, 2142, 2143, 2144, 2145, 2146, 2147, 2148, 2149, 2150, 2151, 2152, 2153, 2154, 2155, 2156, 2157, 2158, 2159, 2160, 2161, 2162, 2163, 2164, 2165, 2166, 2167, 2168, 2169, 2170, 2171, 2172, 2173, 2174, 2175, 2176, 2177, 2178, 2179, 2180, 2181, 2182, 2183, 2184, 2185, 2186, 2187, 2188, 2189, 2190, 2191, 2192, 2193, 2194, 2195, 2196, 2197, 2198, 2199, 2200, 2201, 2202, 2203, 2204, 2205, 2206, 2207, 2208, 2209, 2210, 2211, 2212, 2213, 2214, 2215, 2216, 2217, 2218, 2219, 2220, 2221, 2222, 2223, 2224, 2225, 2226, 2227, 2228, 2229, 2230, 2231, 2232, 2233, 2234, 2235, 2236, 2237, 2238, 2239, 2240, 2241, 2242, 2243, 2244, 2245, 2246, 2247, 2248, 2249, 2250, 2251, 2252, 2253, 2254, 2255, 2256, 2257, 2258, 2259, 2260, 2261, 2262, 2263, 2264, 2265, 2266, 2267, 2268, 2269, 2270, 2271, 2272, 2273, 2274, 2275, 2276, 2277, 2278, 2279, 2280, 2281, 2282, 2283, 2284, 2285, 2286, 2287, 2288, 2289, 2290, 2291, 2292, 2293, 2294, 2295, 2296, 2297, 2298, 2299, 2300, 2301, 2302, 2303, 2304, 2305, 2306, 2307, 2308, 2309, 2310, 2311, 2312, 2313, 2314, 2315, 2316, 2317, 2318, 2319, 2320, 2321, 2322, 2323, 2324, 2325, 2326, 2327, 2328, 2329, 2330, 2331, 2332, 2333, 2334, 2335, 2336, 2337, 2338, 2339, 2340, 2341, 2342, 2343, 2344, 2345, 2346, 2347, 2348, 2349, 2350, 2351, 2352, 2353, 2354, 2355, 2356, 2357, 2358, 2359, 2360, 2361, 2362, 2363, 2364, 2365, 2366, 2367, 2368, 2369, 2370, 2371, 2372, 2373, 2374, 2375, 2376, 2377, 2378, 2379, 2380, 2381, 2382, 2383, 2384, 2385, 2386, 2387, 2388, 2389, 2390, 2391, 2392, 2393, 2394, 2395, 2396, 2397, 2398, 2399, 2400, 2401, 2402, 2403, 2404, 2405, 2406, 2407, 2408, 2409, 2410, 2411, 2412, 2413, 2414, 2415, 2416, 2417, 2418, 2419, 2420, 2421, 2422, 2423, 2424, 2425, 2426, 2427, 2428, 2429, 2430, 2431, 2432, 2433, 2434, 2435, 2436, 2437, 2438, 2439, 2440, 2441, 2442, 2443, 2444, 2445, 2446, 2447, 2448, 2449, 2450, 2451, 2452, 2453, 2454, 2455, 2456, 2457, 2458, 2459, 2460, 2461, 2462, 2463, 2464, 2465, 2466, 2467, 2468, 2469, 2470, 2471, 2472, 2473, 2474, 2475, 2476, 2477, 2478, 2479, 2480, 2481, 2482, 2483, 2484, 2485, 2486, 2487, 2488, 2489, 2490, 2491, 2492, 2493, 2494, 2495, 2496, 2497, 2498, 2499, 2500, 2501, 2502, 2503, 2504, 2505, 2506, 2507, 2508, 2509, 2510, 2511, 2512, 2513, 2514, 2515, 2516, 2517, 2518, 2519, 2520, 2521, 2522, 2523, 2524, 2525, 2526, 2527, 2528, 2529, 2530, 2531, 2532, 2533, 2534, 2535, 2536, 2537, 2538, 2539, 2540, 2541, 2542, 2543, 2544, 2545, 2546, 2547, 2548, 2549, 2550, 2551, 2552, 2553, 2554, 2555, 2556, 2557, 2558, 2559, 2560, 2561, 2562, 2563, 2564, 2565, 2566, 2567, 2568, 2569, 2570, 2571, 2572, 2573, 2574, 2575, 2576, 2577, 2578, 2579, 2580, 2581, 2582, 2583, 2584, 2585, 2586, 2587, 2588, 2589, 2590, 2591, 2592, 2593, 2594, 2595, 2596, 2597, 2598, 2599, 2600, 2601, 2602, 2603, 2604, 2605, 2606, 2607, 2608, 2609, 2610, 2611, 2612, 2613, 2614, 2615, 2616, 2617, 2618, 2619, 2620, 2621, 2622, 2623, 2624, 2625, 2626, 2627, 2628, 2629, 2630, 2631, 2632, 2633, 2634, 2635, 2636, 2637, 2638, 2639, 2640, 2641, 2642, 2643, 2644, 2645, 2646, 2647, 2648, 2649, 2650, 2651, 2652, 2653, 2654, 2655, 2656, 2657, 2658, 2659, 2660, 2661, 2662, 2663, 2664, 2665, 2666, 2667, 2668, 2669, 2670, 2671, 2672, 2673, 2674, 2675, 2676, 2677, 2678, 2679, 2680, 2681, 2682, 2683, 2684, 2685, 2686, 2687, 2688, 2689, 2690, 2691, 2692, 2693, 2694, 2695, 2696, 2697, 2698, 2699, 2700, 2701, 2702, 2703, 2704, 2705, 2706, 2707, 2708, 2709, 2710, 2711, 2712, 2713, 2714, 2715, 2716, 2717, 2718, 2719, 2720, 2721, 2722, 2723, 2724, 2725, 2726, 2727, 2728, 2729, 2730, 2731, 2732, 2733, 2734, 2735, 2736, 2737, 2738, 2739, 2740, 2741, 2742, 2743, 2744, 2745, 2746, 2747, 2748, 2749, 2750, 2751, 2752, 2753, 2754, 2755, 2756, 2757, 2758, 2759, 2760, 2761, 2762, 2763, 2764, 2765, 2766, 2767, 2768, 2769, 2770, 2771, 2772, 2773, 2774, 2775, 2776, 2777, 2778, 2779, 2780, 2781, 2782, 2783, 2784, 2785, 2786, 2787, 2788, 2789, 2790, 2791, 2792, 2793, 2794, 2795, 2796, 2797, 2798, 2799, 2800, 2801, 2802, 2803, 2804, 2805, 2806, 2807, 2808, 2809, 2810, 2811, 2812, 2813, 2814, 2815, 2816, 2817, 2818, 2819, 2820, 2821, 2822, 2823, 2824, 2825, 2826, 2827, 2828, 2829, 2830, 2831, 2832, 2833, 2834, 2835, 2836, 2837, 2838, 2839, 2840, 2841, 2842, 2843, 2844, 2845, 2846, 2847, 2848, 2849, 2850, 2851, 2852, 2853, 2854, 2855, 2856, 2857, 2858, 2859, 2860, 2861, 2862, 2863, 2864, 2865, 2866, 2867, 2868, 2869, 2870, 2871, 2872, 2873, 2874, 2875, 2876, 2877, 2878, 2879, 2880, 2881, 2882, 2883, 2884, 2885, 2886, 2887, 2888, 2889, 2890, 2891, 2892, 2893, 2894, 2895, 2896, 2897, 2898, 2899, 2900, 2901, 2902, 2903, 2904, 2905, 2906, 2907, 2908, 2909, 2910, 2911, 2912, 2913, 2914, 2915, 2916, 2917, 2918, 2919, 2920, 2921, 2922, 2923, 2924, 2925, 2926, 2927, 2928, 2929, 2930, 2931, 2932, 2933, 2934, 2935, 2936, 2937, 2938, 2939, 2940, 2941, 2942, 2943, 2944, 2945, 2946, 2947, 2948, 2949, 2950, 2951, 2952, 2953, 2954, 2955, 2956, 2957, 2958, 2959, 2960, 2961, 2962, 2963, 2964, 2965, 2966, 2967, 2968, 2969, 2970, 2971, 2972, 2973, 2974, 2975, 2976, 2977, 2978, 2979, 2980, 2981, 2982, 2983, 2984, 2985, 2986, 2987, 2988, 2989, 2990, 2991, 2992, 2993, 2994, 2995, 2996, 2997, 2998, 2999, 3000, 3001, 3002, 3003, 3004, 3005, 3006, 3007, 3008, 3009, 3010, 3011, 3012, 3013, 3014, 3015, 3016, 3017, 3018, 3019, 3020, 3021, 3022, 3023, 3024, 3025, 3026]\n"
     ]
    }
   ],
   "source": [
    "# 反归一化实际结果\n",
    "y_train = scaler.inverse_transform(y)\n",
    "\n",
    "print(y_train.shape)\n",
    "print(y_train)\n",
    "\n",
    "y_train_close = y_train[:, 0]\n",
    "print(y_train_close)\n",
    "\n",
    "\n",
    "time = list(range(len(y_train_close)))\n",
    "print(time)"
   ]
  },
  {
   "cell_type": "code",
   "execution_count": 31,
   "metadata": {},
   "outputs": [
    {
     "data": {
      "image/png": "[encoded data removed]",
      "text/plain": [
       "<Figure size 640x480 with 1 Axes>"
      ]
     },
     "metadata": {},
     "output_type": "display_data"
    }
   ],
   "source": [
    "#visualization\n",
    "fig2 = plt.figure()\n",
    "plt.plot(time, y_train_close, label='real price')\n",
    "plt.plot(time, y_train_predictions_close, label='predict price')\n",
    "plt.title('close price')\n",
    "plt.xlabel('time')\n",
    "plt.ylabel('price')\n",
    "plt.legend()\n",
    "plt.show()"
   ]
  },
  {
   "cell_type": "code",
   "execution_count": 32,
   "metadata": {},
   "outputs": [
    {
     "name": "stdout",
     "output_type": "stream",
     "text": [
      "| timeOpen   | Close   | Open    | High    | Low     | volume   | Chg.(%)   |\n",
      "|:-----------|:--------|:--------|:--------|:--------|:---------|:----------|\n",
      "| 2022/5/16  | 29849   | 31308.3 | 31312.4 | 29135.8 | 100250   | -0.05     |\n",
      "| 2022/5/17  | 30437.5 | 29856.7 | 30720.1 | 29484.5 | 79630    | 0.02      |\n",
      "| 2022/5/18  | 28683.7 | 30437.5 | 30687.9 | 28648.1 | 92030    | -0.06     |\n",
      "| 2022/5/19  | 30305.9 | 28700.4 | 30525.1 | 28682.1 | 101380   | 0.06      |\n",
      "| 2022/5/20  | 29178.6 | 30305.9 | 30735.1 | 28738.5 | 98780    | -0.04     |\n",
      "<class 'pandas.core.frame.DataFrame'>\n",
      "RangeIndex: 764 entries, 0 to 763\n",
      "Data columns (total 7 columns):\n",
      " #   Column    Non-Null Count  Dtype  \n",
      "---  ------    --------------  -----  \n",
      " 0   timeOpen  764 non-null    object \n",
      " 1   Close     764 non-null    float64\n",
      " 2   Open      764 non-null    float64\n",
      " 3   High      764 non-null    float64\n",
      " 4   Low       764 non-null    float64\n",
      " 5   volume    764 non-null    float64\n",
      " 6   Chg.(%)   764 non-null    float64\n",
      "dtypes: float64(6), object(1)\n",
      "memory usage: 41.9+ KB\n",
      "None\n"
     ]
    }
   ],
   "source": [
    "#load the test data\n",
    "data_test = pd.read_csv('BTC_price_test.csv')\n",
    "\n",
    "# Reverse the order of the DataFrame\n",
    "#data_test = data_test.iloc[::-1].reset_index(drop=True)\n",
    "# Display the first 5 rows\n",
    "print(data_test.head().to_markdown(index=False, numalign=\"left\", stralign=\"left\"))\n",
    "\n",
    "# Print the column names and their data types\n",
    "print(data_test.info())"
   ]
  },
  {
   "cell_type": "code",
   "execution_count": 33,
   "metadata": {},
   "outputs": [
    {
     "name": "stdout",
     "output_type": "stream",
     "text": [
      "(764, 5)\n",
      "[[4.41101039e-01 4.62741649e-01 4.52594417e-01 4.38446512e-01\n",
      "  2.23691288e-05]\n",
      " [4.49830382e-01 4.41210019e-01 4.43989220e-01 4.43710449e-01\n",
      "  1.77561532e-05]\n",
      " [4.23815902e-01 4.49825044e-01 4.43521404e-01 4.31084247e-01\n",
      "  2.05302025e-05]\n",
      " ...\n",
      " [9.80644147e-01 9.77830550e-01 9.63036735e-01 9.93360828e-01\n",
      "  5.32214796e-06]\n",
      " [9.87344307e-01 9.80632510e-01 9.70373599e-01 9.95519540e-01\n",
      "  4.58165575e-06]\n",
      " [9.72215918e-01 9.87305891e-01 9.69525138e-01 9.87240955e-01\n",
      "  7.90604073e-06]]\n"
     ]
    }
   ],
   "source": [
    "#define the price\n",
    "price_test = data_test.drop(['timeOpen', 'Chg.(%)'], axis=1)\n",
    "\n",
    "#normalize\n",
    "scaled_test_data = scaler.transform(price_test)  # 使用在训练集上拟合的scaler来转换测试集\n",
    "\n",
    "print(scaled_test_data.shape)\n",
    "print(scaled_test_data)"
   ]
  },
  {
   "cell_type": "code",
   "execution_count": 47,
   "metadata": {},
   "outputs": [
    {
     "name": "stdout",
     "output_type": "stream",
     "text": [
      "(734, 30, 5) (734, 5)\n",
      "[[[4.41101039e-01 4.62741649e-01 4.52594417e-01 4.38446512e-01\n",
      "   2.23691288e-05]\n",
      "  [4.49830382e-01 4.41210019e-01 4.43989220e-01 4.43710449e-01\n",
      "   1.77561532e-05]\n",
      "  [4.23815902e-01 4.49825044e-01 4.43521404e-01 4.31084247e-01\n",
      "   2.05302025e-05]\n",
      "  ...\n",
      "  [3.93001396e-01 4.19662074e-01 4.12240213e-01 4.00261461e-01\n",
      "   2.67919479e-05]\n",
      "  [3.31320467e-01 3.92996732e-01 3.87873109e-01 3.30820371e-01\n",
      "   8.47874770e-05]\n",
      "  [3.27008453e-01 3.31332852e-01 3.34738234e-01 3.13529540e-01\n",
      "   5.60962001e-05]]\n",
      "\n",
      " [[4.49830382e-01 4.41210019e-01 4.43989220e-01 4.43710449e-01\n",
      "   1.77561532e-05]\n",
      "  [4.23815902e-01 4.49825044e-01 4.43521404e-01 4.31084247e-01\n",
      "   2.05302025e-05]\n",
      "  [4.47878332e-01 4.24058585e-01 4.41156173e-01 4.31597507e-01\n",
      "   2.26219253e-05]\n",
      "  ...\n",
      "  [3.31320467e-01 3.92996732e-01 3.87873109e-01 3.30820371e-01\n",
      "   8.47874770e-05]\n",
      "  [3.27008453e-01 3.31332852e-01 3.34738234e-01 3.13529540e-01\n",
      "   5.60962001e-05]\n",
      "  [3.33247301e-01 3.26710879e-01 3.28260001e-01 3.02432552e-01\n",
      "   6.26733817e-05]]\n",
      "\n",
      " [[4.23815902e-01 4.49825044e-01 4.43521404e-01 4.31084247e-01\n",
      "   2.05302025e-05]\n",
      "  [4.47878332e-01 4.24058585e-01 4.41156173e-01 4.31597507e-01\n",
      "   2.26219253e-05]\n",
      "  [4.31156857e-01 4.47873017e-01 4.44207147e-01 4.32448916e-01\n",
      "   2.20402697e-05]\n",
      "  ...\n",
      "  [3.27008453e-01 3.31332852e-01 3.34738234e-01 3.13529540e-01\n",
      "   5.60962001e-05]\n",
      "  [3.33247301e-01 3.26710879e-01 3.28260001e-01 3.02432552e-01\n",
      "   6.26733817e-05]\n",
      "  [3.00743292e-01 3.33243346e-01 3.30986990e-01 3.04022149e-01\n",
      "   3.21566014e-05]]\n",
      "\n",
      " ...\n",
      "\n",
      " [[9.65929605e-01 9.80582078e-01 9.65906103e-01 9.74161876e-01\n",
      "   1.61722604e-05]\n",
      "  [9.92715412e-01 9.65919626e-01 9.77191797e-01 9.81685667e-01\n",
      "   1.40559292e-05]\n",
      "  [9.90945810e-01 9.92700665e-01 9.76330261e-01 1.00454688e+00\n",
      "   6.58165586e-06]\n",
      "  ...\n",
      "  [1.01086087e+00 9.96917696e-01 1.01453135e+00 1.00870429e+00\n",
      "   1.90805380e-05]\n",
      "  [9.88803895e-01 1.01085630e+00 9.91195764e-01 9.99839984e-01\n",
      "   1.47874729e-05]\n",
      "  [9.77852537e-01 9.88823310e-01 9.76131221e-01 9.81003333e-01\n",
      "   1.45234908e-05]]\n",
      "\n",
      " [[9.92715412e-01 9.65919626e-01 9.77191797e-01 9.81685667e-01\n",
      "   1.40559292e-05]\n",
      "  [9.90945810e-01 9.92700665e-01 9.76330261e-01 1.00454688e+00\n",
      "   6.58165586e-06]\n",
      "  [9.81476290e-01 9.90956300e-01 9.80704775e-01 9.93997874e-01\n",
      "   8.03803179e-06]\n",
      "  ...\n",
      "  [9.88803895e-01 1.01085630e+00 9.91195764e-01 9.99839984e-01\n",
      "   1.47874729e-05]\n",
      "  [9.77852537e-01 9.88823310e-01 9.76131221e-01 9.81003333e-01\n",
      "   1.45234908e-05]\n",
      "  [9.80644147e-01 9.77830550e-01 9.63036735e-01 9.93360828e-01\n",
      "   5.32214796e-06]]\n",
      "\n",
      " [[9.90945810e-01 9.92700665e-01 9.76330261e-01 1.00454688e+00\n",
      "   6.58165586e-06]\n",
      "  [9.81476290e-01 9.90956300e-01 9.80704775e-01 9.93997874e-01\n",
      "   8.03803179e-06]\n",
      "  [1.05777238e+00 9.81452777e-01 1.03620779e+00 9.96099222e-01\n",
      "   2.51454153e-05]\n",
      "  ...\n",
      "  [9.77852537e-01 9.88823310e-01 9.76131221e-01 9.81003333e-01\n",
      "   1.45234908e-05]\n",
      "  [9.80644147e-01 9.77830550e-01 9.63036735e-01 9.93360828e-01\n",
      "   5.32214796e-06]\n",
      "  [9.87344307e-01 9.80632510e-01 9.70373599e-01 9.95519540e-01\n",
      "   4.58165575e-06]]] [[3.33247301e-01 3.26710879e-01 3.28260001e-01 3.02432552e-01\n",
      "  6.26733817e-05]\n",
      " [3.00743292e-01 3.33243346e-01 3.30986990e-01 3.04022149e-01\n",
      "  3.21566014e-05]\n",
      " [3.01603618e-01 3.00809439e-01 3.07353571e-01 3.04218395e-01\n",
      "  3.04272948e-05]\n",
      " ...\n",
      " [9.80644147e-01 9.77830550e-01 9.63036735e-01 9.93360828e-01\n",
      "  5.32214796e-06]\n",
      " [9.87344307e-01 9.80632510e-01 9.70373599e-01 9.95519540e-01\n",
      "  4.58165575e-06]\n",
      " [9.72215918e-01 9.87305891e-01 9.69525138e-01 9.87240955e-01\n",
      "  7.90604073e-06]]\n"
     ]
    }
   ],
   "source": [
    "X_test, y_test = extract_data(scaled_test_data, time_step)\n",
    "\n",
    "print(X_test.shape, y_test.shape)\n",
    "print(X_test, y_test)"
   ]
  },
  {
   "cell_type": "code",
   "execution_count": 48,
   "metadata": {},
   "outputs": [
    {
     "name": "stdout",
     "output_type": "stream",
     "text": [
      "\u001b[1m23/23\u001b[0m \u001b[32m━━━━━━━━━━━━━━━━━━━━\u001b[0m\u001b[37m\u001b[0m \u001b[1m2s\u001b[0m 90ms/step\n",
      "(734, 5)\n",
      "[[ 0.32269332  0.32144007  0.33089203  0.31231523 -0.00178555]\n",
      " [ 0.31500095  0.3145818   0.32369864  0.3055791  -0.00243304]\n",
      " [ 0.3067196   0.3063857   0.31506974  0.29783306 -0.00238841]\n",
      " ...\n",
      " [ 0.9490039   0.9640849   0.9634847   0.9528645  -0.00736197]\n",
      " [ 0.95512635  0.96999186  0.9692116   0.95961106 -0.007162  ]\n",
      " [ 0.9601481   0.9744583   0.973606    0.9651475  -0.00667094]]\n",
      "(734, 5)\n",
      "[[ 2.1866391e+04  2.1782158e+04  2.2935564e+04  2.0780459e+04\n",
      "  -7.9811465e+06]\n",
      " [ 2.1347799e+04  2.1319793e+04  2.2440439e+04  2.0334236e+04\n",
      "  -1.0875420e+07]\n",
      " [ 2.0789502e+04  2.0767234e+04  2.1846508e+04  1.9821115e+04\n",
      "  -1.0675931e+07]\n",
      " ...\n",
      " [ 6.4089930e+04  6.5107406e+04  6.6477234e+04  6.3212496e+04\n",
      "  -3.2907736e+07]\n",
      " [ 6.4502684e+04  6.5505637e+04  6.6871422e+04  6.3659410e+04\n",
      "  -3.2013884e+07]\n",
      " [ 6.4841234e+04  6.5806750e+04  6.7173891e+04  6.4026160e+04\n",
      "  -2.9818840e+07]]\n"
     ]
    }
   ],
   "source": [
    "#predict\n",
    "y_test_predict = model.predict(X_test)\n",
    "print(y_test_predict.shape)\n",
    "print(y_test_predict)\n",
    "y_test_predict = scaler.inverse_transform(y_test_predict)\n",
    "print(y_test_predict.shape)\n",
    "print(y_test_predict)"
   ]
  },
  {
   "cell_type": "code",
   "execution_count": 49,
   "metadata": {},
   "outputs": [
    {
     "name": "stdout",
     "output_type": "stream",
     "text": [
      "[[3.33247301e-01 3.26710879e-01 3.28260001e-01 3.02432552e-01\n",
      "  6.26733817e-05]\n",
      " [3.00743292e-01 3.33243346e-01 3.30986990e-01 3.04022149e-01\n",
      "  3.21566014e-05]\n",
      " [3.01603618e-01 3.00809439e-01 3.07353571e-01 3.04218395e-01\n",
      "  3.04272948e-05]\n",
      " ...\n",
      " [9.80644147e-01 9.77830550e-01 9.63036735e-01 9.93360828e-01\n",
      "  5.32214796e-06]\n",
      " [9.87344307e-01 9.80632510e-01 9.70373599e-01 9.95519540e-01\n",
      "  4.58165575e-06]\n",
      " [9.72215918e-01 9.87305891e-01 9.69525138e-01 9.87240955e-01\n",
      "  7.90604073e-06]]\n",
      "(734, 5)\n",
      "[[ 22577.9  22137.5  22754.4  20125.8 280410. ]\n",
      " [ 20386.6  22577.9  22942.1  20231.1 144000. ]\n",
      " [ 20444.6  20391.3  21315.4  20244.1 136270. ]\n",
      " ...\n",
      " [ 66223.   66034.1  66446.4  65895.1  24050. ]\n",
      " [ 66674.7  66223.   66951.4  66038.1  20740. ]\n",
      " [ 65654.8  66672.9  66893.   65489.7  35600. ]]\n"
     ]
    }
   ],
   "source": [
    "print(y_test)\n",
    "y_test = scaler.inverse_transform(y_test)\n",
    "print(y_test.shape)\n",
    "print(y_test)\n",
    "\n",
    "y_test_predict_close = y_test_predict[:, 0]\n",
    "y_test_close = y_test[:, 0]"
   ]
  },
  {
   "cell_type": "code",
   "execution_count": 51,
   "metadata": {},
   "outputs": [
    {
     "name": "stdout",
     "output_type": "stream",
     "text": [
      "21866.39\n",
      "22577.9\n"
     ]
    }
   ],
   "source": [
    "print(y_test_predict_close[0])\n",
    "print(y_test_close[0])"
   ]
  },
  {
   "cell_type": "code",
   "execution_count": 52,
   "metadata": {},
   "outputs": [
    {
     "data": {
      "image/png": "[encoded data removed]",
      "text/plain": [
       "<Figure size 640x480 with 1 Axes>"
      ]
     },
     "metadata": {},
     "output_type": "display_data"
    }
   ],
   "source": [
    "time_test = list(range(len(y_test_close)))\n",
    "\n",
    "fig3 = plt.figure()\n",
    "plt.plot(time_test, y_test_close, label='real price',linewidth = 1)\n",
    "plt.plot(time_test, y_test_predict_close, label='predict price', lw = 1)\n",
    "plt.legend()\n",
    "plt.title('close price')\n",
    "plt.xlabel('time')\n",
    "plt.ylabel('price')\n",
    "plt.show()\n"
   ]
  },
  {
   "cell_type": "code",
   "execution_count": 53,
   "metadata": {},
   "outputs": [
    {
     "data": {
      "text/plain": [
       "\"\\n#输出结果\\nresult_y_test = y_test.reshape(-1, 1)\\nresult_y_predict = y_test_predict.reshape(-1, 1)\\n\\nprint(y_test.shape, result_y_test.shape, y_test_predict.shape)\\n\\nresult = np.concatenate((result_y_test, result_y_predict), axis=1)\\nprint(result.shape)\\n\\nresult = pd.DataFrame(result, columns=['real_price_test', 'predict_price_test'])\\nresult.to_csv('BTC_predict_test_2.0.csv')\\n\""
      ]
     },
     "execution_count": 53,
     "metadata": {},
     "output_type": "execute_result"
    }
   ],
   "source": [
    "'''\n",
    "#输出结果\n",
    "result_y_test = y_test.reshape(-1, 1)\n",
    "result_y_predict = y_test_predict.reshape(-1, 1)\n",
    "\n",
    "print(y_test.shape, result_y_test.shape, y_test_predict.shape)\n",
    "\n",
    "result = np.concatenate((result_y_test, result_y_predict), axis=1)\n",
    "print(result.shape)\n",
    "\n",
    "result = pd.DataFrame(result, columns=['real_price_test', 'predict_price_test'])\n",
    "result.to_csv('BTC_predict_test_2.0.csv')\n",
    "'''"
   ]
  },
  {
   "cell_type": "code",
   "execution_count": 54,
   "metadata": {},
   "outputs": [
    {
     "name": "stdout",
     "output_type": "stream",
     "text": [
      "| timeOpen   | Close   | Open    | High    | Low     | volume   | Chg.(%)   |\n",
      "|:-----------|:--------|:--------|:--------|:--------|:---------|:----------|\n",
      "| 2024/5/19  | 66279.1 | 66919   | 67662.5 | 65937.3 | 36190    | -0.01     |\n",
      "| 2024/5/20  | 71422.7 | 66278.3 | 71482.8 | 66076.5 | 112660   | 0.08      |\n",
      "| 2024/5/21  | 70139.9 | 71430.5 | 71872   | 69181.7 | 108560   | -0.02     |\n",
      "| 2024/5/22  | 69155.4 | 70141   | 70593.4 | 69024.3 | 65080    | -0.01     |\n",
      "| 2024/5/23  | 67975.7 | 69166.3 | 70041   | 66578.1 | 89450    | -0.02     |\n",
      "<class 'pandas.core.frame.DataFrame'>\n",
      "RangeIndex: 30 entries, 0 to 29\n",
      "Data columns (total 7 columns):\n",
      " #   Column    Non-Null Count  Dtype  \n",
      "---  ------    --------------  -----  \n",
      " 0   timeOpen  30 non-null     object \n",
      " 1   Close     30 non-null     float64\n",
      " 2   Open      30 non-null     float64\n",
      " 3   High      30 non-null     float64\n",
      " 4   Low       30 non-null     float64\n",
      " 5   volume    30 non-null     float64\n",
      " 6   Chg.(%)   30 non-null     float64\n",
      "dtypes: float64(6), object(1)\n",
      "memory usage: 1.8+ KB\n",
      "None\n"
     ]
    }
   ],
   "source": [
    "#进行迭代预测\n",
    "data_30d = pd.read_csv('BTC_30D.csv')\n",
    "\n",
    "# Reverse the order of the DataFrame\n",
    "#data_30d = data_30d.iloc[::-1].reset_index(drop=True)\n",
    "# Display the first 5 rows\n",
    "print(data_30d.head().to_markdown(index=False, numalign=\"left\", stralign=\"left\"))\n",
    "\n",
    "# Print the column names and their data types\n",
    "print(data_30d.info())"
   ]
  },
  {
   "cell_type": "code",
   "execution_count": 55,
   "metadata": {},
   "outputs": [
    {
     "name": "stdout",
     "output_type": "stream",
     "text": [
      "(30, 5)\n",
      "<class 'numpy.ndarray'>\n"
     ]
    }
   ],
   "source": [
    "price_30d = data_30d.drop(['timeOpen', 'Chg.(%)'], axis=1)\n",
    "\n",
    "scaled_30d_data = scaler.transform(price_30d)\n",
    "\n",
    "print(scaled_30d_data.shape)\n",
    "print(type(scaled_30d_data))"
   ]
  },
  {
   "cell_type": "code",
   "execution_count": 56,
   "metadata": {},
   "outputs": [
    {
     "name": "stdout",
     "output_type": "stream",
     "text": [
      "(1, 30, 5)\n",
      "[[[9.81476290e-01 9.90956300e-01 9.80704775e-01 9.93997874e-01\n",
      "   8.03803179e-06]\n",
      "  [1.05777238e+00 9.81452777e-01 1.03620779e+00 9.96099222e-01\n",
      "   2.51454153e-05]\n",
      "  [1.03874434e+00 1.05787552e+00 1.04186226e+00 1.04297498e+00\n",
      "   2.42281893e-05]\n",
      "  [1.02414105e+00 1.03874833e+00 1.02328619e+00 1.04059888e+00\n",
      "   1.45011194e-05]\n",
      "  [1.00664231e+00 1.02429057e+00 1.01526068e+00 1.00367132e+00\n",
      "   1.99530213e-05]\n",
      "  [1.01512542e+00 1.00656213e+00 1.00321660e+00 1.00529715e+00\n",
      "   1.40984348e-05]\n",
      "  [1.02605453e+00 1.01512228e+00 1.00825506e+00 1.03292715e+00\n",
      "   5.57270726e-06]\n",
      "  [1.01463889e+00 1.02608389e+00 1.00731362e+00 1.02958190e+00\n",
      "   5.44071620e-06]\n",
      "  [1.02819496e+00 1.01462389e+00 1.02393852e+00 1.02929055e+00\n",
      "   1.09194637e-05]\n",
      "  [1.01243171e+00 1.02817683e+00 1.00828267e+00 1.01456753e+00\n",
      "   1.59127526e-05]\n",
      "  [1.00160050e+00 1.01242266e+00 9.98648855e-01 1.01220201e+00\n",
      "   1.16040275e-05]\n",
      "  [1.01226410e+00 1.00152187e+00 1.00746907e+00 1.01212955e+00\n",
      "   1.48948555e-05]\n",
      "  [1.00003263e+00 1.01221649e+00 1.00040099e+00 1.00516128e+00\n",
      "   1.37024616e-05]\n",
      "  [1.00345465e+00 1.00007713e+00 9.83588671e-01 1.01682739e+00\n",
      "   4.19463112e-06]\n",
      "  [1.00364304e+00 1.00344275e+00 9.92109603e-01 1.01503098e+00\n",
      "   6.79418384e-06]\n",
      "  [1.01898502e+00 1.00347983e+00 1.01656824e+00 1.01935142e+00\n",
      "   1.54720367e-05]\n",
      "  [1.04481557e+00 1.01897590e+00 1.02969033e+00 1.03365478e+00\n",
      "   1.68747213e-05]\n",
      "  [1.05274392e+00 1.04482839e+00 1.04000843e+00 1.06132252e+00\n",
      "   1.49440725e-05]\n",
      "  [1.04840966e+00 1.05272995e+00 1.03814443e+00 1.05802558e+00\n",
      "   1.10805376e-05]\n",
      "  [1.02699644e+00 1.04842540e+00 1.04308991e+00 1.03450618e+00\n",
      "   1.84250570e-05]\n",
      "  [1.02643574e+00 1.02697090e+00 1.00844829e+00 1.04358938e+00\n",
      "   5.09396003e-06]\n",
      "  [1.03148645e+00 1.02642950e+00 1.01245378e+00 1.04229566e+00\n",
      "   4.63758416e-06]\n",
      "  [1.02981920e+00 1.03146828e+00 1.01688060e+00 1.04415548e+00\n",
      "   8.69351281e-06]\n",
      "  [9.96913209e-01 1.02980253e+00 1.00846572e+00 9.97930354e-01\n",
      "   2.15749453e-05]\n",
      "  [1.01086087e+00 9.96917696e-01 1.01453135e+00 1.00870429e+00\n",
      "   1.90805380e-05]\n",
      "  [9.88803895e-01 1.01085630e+00 9.91195764e-01 9.99839984e-01\n",
      "   1.47874729e-05]\n",
      "  [9.77852537e-01 9.88823310e-01 9.76131221e-01 9.81003333e-01\n",
      "   1.45234908e-05]\n",
      "  [9.80644147e-01 9.77830550e-01 9.63036735e-01 9.93360828e-01\n",
      "   5.32214796e-06]\n",
      "  [9.87344307e-01 9.80632510e-01 9.70373599e-01 9.95519540e-01\n",
      "   4.58165575e-06]\n",
      "  [9.72215918e-01 9.87305891e-01 9.69525138e-01 9.87240955e-01\n",
      "   7.90604073e-06]]]\n"
     ]
    }
   ],
   "source": [
    "scaled_30d_data = scaled_30d_data.reshape(1, 30, 5)\n",
    "print(scaled_30d_data.shape)\n",
    "print(scaled_30d_data)"
   ]
  },
  {
   "cell_type": "code",
   "execution_count": 57,
   "metadata": {},
   "outputs": [],
   "source": [
    "#定义函数\n",
    "def predict_and_update(model, scaled_30d_data, num_predictions):\n",
    "    \"\"\"\n",
    "    使用模型进行多次预测，并在每次预测后更新输入数据。\n",
    "\n",
    "    参数:\n",
    "        model: 训练好的预测模型。\n",
    "        scaled_30d_data: 初始的归一化价格数据，形状为 (1, 30, 5)。\n",
    "        num_predictions: 要进行的预测次数。\n",
    "\n",
    "    返回:\n",
    "        所有预测结果组成的列表。\n",
    "    \"\"\"\n",
    "    predictions = []\n",
    "    for _ in range(num_predictions):\n",
    "        # 预测\n",
    "        predict_30d = model.predict(scaled_30d_data)\n",
    "\n",
    "        # 转换 predict_30d 的形状并拼接\n",
    "        scaled_30d_data = np.concatenate([scaled_30d_data, predict_30d.reshape(1, 1, 5)], axis=1)\n",
    "\n",
    "        # 删除第一个元素\n",
    "        scaled_30d_data = scaled_30d_data[:, 1:]\n",
    "\n",
    "        predictions.append(predict_30d)\n",
    "\n",
    "    return predictions"
   ]
  },
  {
   "cell_type": "code",
   "execution_count": 69,
   "metadata": {},
   "outputs": [
    {
     "name": "stdout",
     "output_type": "stream",
     "text": [
      "\u001b[1m1/1\u001b[0m \u001b[32m━━━━━━━━━━━━━━━━━━━━\u001b[0m\u001b[37m\u001b[0m \u001b[1m0s\u001b[0m 97ms/step\n",
      "\u001b[1m1/1\u001b[0m \u001b[32m━━━━━━━━━━━━━━━━━━━━\u001b[0m\u001b[37m\u001b[0m \u001b[1m0s\u001b[0m 83ms/step\n",
      "\u001b[1m1/1\u001b[0m \u001b[32m━━━━━━━━━━━━━━━━━━━━\u001b[0m\u001b[37m\u001b[0m \u001b[1m0s\u001b[0m 84ms/step\n",
      "\u001b[1m1/1\u001b[0m \u001b[32m━━━━━━━━━━━━━━━━━━━━\u001b[0m\u001b[37m\u001b[0m \u001b[1m0s\u001b[0m 101ms/step\n",
      "\u001b[1m1/1\u001b[0m \u001b[32m━━━━━━━━━━━━━━━━━━━━\u001b[0m\u001b[37m\u001b[0m \u001b[1m0s\u001b[0m 86ms/step\n",
      "\u001b[1m1/1\u001b[0m \u001b[32m━━━━━━━━━━━━━━━━━━━━\u001b[0m\u001b[37m\u001b[0m \u001b[1m0s\u001b[0m 84ms/step\n",
      "\u001b[1m1/1\u001b[0m \u001b[32m━━━━━━━━━━━━━━━━━━━━\u001b[0m\u001b[37m\u001b[0m \u001b[1m0s\u001b[0m 85ms/step\n",
      "\u001b[1m1/1\u001b[0m \u001b[32m━━━━━━━━━━━━━━━━━━━━\u001b[0m\u001b[37m\u001b[0m \u001b[1m0s\u001b[0m 86ms/step\n",
      "\u001b[1m1/1\u001b[0m \u001b[32m━━━━━━━━━━━━━━━━━━━━\u001b[0m\u001b[37m\u001b[0m \u001b[1m0s\u001b[0m 79ms/step\n",
      "\u001b[1m1/1\u001b[0m \u001b[32m━━━━━━━━━━━━━━━━━━━━\u001b[0m\u001b[37m\u001b[0m \u001b[1m0s\u001b[0m 78ms/step\n",
      "\u001b[1m1/1\u001b[0m \u001b[32m━━━━━━━━━━━━━━━━━━━━\u001b[0m\u001b[37m\u001b[0m \u001b[1m0s\u001b[0m 87ms/step\n",
      "\u001b[1m1/1\u001b[0m \u001b[32m━━━━━━━━━━━━━━━━━━━━\u001b[0m\u001b[37m\u001b[0m \u001b[1m0s\u001b[0m 116ms/step\n",
      "\u001b[1m1/1\u001b[0m \u001b[32m━━━━━━━━━━━━━━━━━━━━\u001b[0m\u001b[37m\u001b[0m \u001b[1m0s\u001b[0m 130ms/step\n",
      "\u001b[1m1/1\u001b[0m \u001b[32m━━━━━━━━━━━━━━━━━━━━\u001b[0m\u001b[37m\u001b[0m \u001b[1m0s\u001b[0m 114ms/step\n",
      "\u001b[1m1/1\u001b[0m \u001b[32m━━━━━━━━━━━━━━━━━━━━\u001b[0m\u001b[37m\u001b[0m \u001b[1m0s\u001b[0m 112ms/step\n",
      "\u001b[1m1/1\u001b[0m \u001b[32m━━━━━━━━━━━━━━━━━━━━\u001b[0m\u001b[37m\u001b[0m \u001b[1m0s\u001b[0m 90ms/step\n",
      "\u001b[1m1/1\u001b[0m \u001b[32m━━━━━━━━━━━━━━━━━━━━\u001b[0m\u001b[37m\u001b[0m \u001b[1m0s\u001b[0m 95ms/step\n",
      "\u001b[1m1/1\u001b[0m \u001b[32m━━━━━━━━━━━━━━━━━━━━\u001b[0m\u001b[37m\u001b[0m \u001b[1m0s\u001b[0m 80ms/step\n",
      "\u001b[1m1/1\u001b[0m \u001b[32m━━━━━━━━━━━━━━━━━━━━\u001b[0m\u001b[37m\u001b[0m \u001b[1m0s\u001b[0m 79ms/step\n",
      "\u001b[1m1/1\u001b[0m \u001b[32m━━━━━━━━━━━━━━━━━━━━\u001b[0m\u001b[37m\u001b[0m \u001b[1m0s\u001b[0m 81ms/step\n",
      "\u001b[1m1/1\u001b[0m \u001b[32m━━━━━━━━━━━━━━━━━━━━\u001b[0m\u001b[37m\u001b[0m \u001b[1m0s\u001b[0m 81ms/step\n",
      "\u001b[1m1/1\u001b[0m \u001b[32m━━━━━━━━━━━━━━━━━━━━\u001b[0m\u001b[37m\u001b[0m \u001b[1m0s\u001b[0m 80ms/step\n",
      "\u001b[1m1/1\u001b[0m \u001b[32m━━━━━━━━━━━━━━━━━━━━\u001b[0m\u001b[37m\u001b[0m \u001b[1m0s\u001b[0m 79ms/step\n",
      "\u001b[1m1/1\u001b[0m \u001b[32m━━━━━━━━━━━━━━━━━━━━\u001b[0m\u001b[37m\u001b[0m \u001b[1m0s\u001b[0m 79ms/step\n",
      "\u001b[1m1/1\u001b[0m \u001b[32m━━━━━━━━━━━━━━━━━━━━\u001b[0m\u001b[37m\u001b[0m \u001b[1m0s\u001b[0m 80ms/step\n",
      "\u001b[1m1/1\u001b[0m \u001b[32m━━━━━━━━━━━━━━━━━━━━\u001b[0m\u001b[37m\u001b[0m \u001b[1m0s\u001b[0m 88ms/step\n",
      "\u001b[1m1/1\u001b[0m \u001b[32m━━━━━━━━━━━━━━━━━━━━\u001b[0m\u001b[37m\u001b[0m \u001b[1m0s\u001b[0m 79ms/step\n",
      "\u001b[1m1/1\u001b[0m \u001b[32m━━━━━━━━━━━━━━━━━━━━\u001b[0m\u001b[37m\u001b[0m \u001b[1m0s\u001b[0m 83ms/step\n",
      "\u001b[1m1/1\u001b[0m \u001b[32m━━━━━━━━━━━━━━━━━━━━\u001b[0m\u001b[37m\u001b[0m \u001b[1m0s\u001b[0m 91ms/step\n",
      "\u001b[1m1/1\u001b[0m \u001b[32m━━━━━━━━━━━━━━━━━━━━\u001b[0m\u001b[37m\u001b[0m \u001b[1m0s\u001b[0m 87ms/step\n"
     ]
    }
   ],
   "source": [
    "a = predict_and_update(model, scaled_30d_data, 30)"
   ]
  },
  {
   "cell_type": "code",
   "execution_count": 70,
   "metadata": {},
   "outputs": [
    {
     "name": "stdout",
     "output_type": "stream",
     "text": [
      "(30, 1, 5)\n",
      "[63787.41  61794.58  59984.63  58401.29  56997.914 55736.047 54595.535\n",
      " 53566.477 52643.242 51821.137 51095.164 50459.477 49907.258 49431.438\n",
      " 49024.73  48679.88  48389.586 48146.75  47944.625 47777.207 47638.227\n",
      " 47518.062 47408.723 47305.05  47204.02  47104.074 47004.78  46906.17\n",
      " 46808.305 46711.184]\n"
     ]
    }
   ],
   "source": [
    "a = np.array(a)\n",
    "print(a.shape)\n",
    "a_reshape = a.reshape(30, 5)\n",
    "a_reshape_result = scaler.inverse_transform(a_reshape)\n",
    "#print(a_reshape_result)\n",
    "a_close_result = a_reshape_result[:, 0]\n",
    "print(a_close_result)"
   ]
  },
  {
   "cell_type": "code",
   "execution_count": 71,
   "metadata": {},
   "outputs": [
    {
     "data": {
      "image/png": "[encoded data removed]",
      "text/plain": [
       "<Figure size 640x480 with 1 Axes>"
      ]
     },
     "metadata": {},
     "output_type": "display_data"
    }
   ],
   "source": [
    "time_result = list(range(len(a_close_result)))\n",
    "\n",
    "fig4 = plt.figure()\n",
    "plt.plot(time_result, a_close_result, label='predict price',linewidth = 1)\n",
    "plt.legend()\n",
    "plt.title('close price')\n",
    "plt.xlabel('time')\n",
    "plt.ylabel('price')\n",
    "plt.show()"
   ]
  },
  {
   "cell_type": "code",
   "execution_count": 8,
   "metadata": {},
   "outputs": [
    {
     "data": {
      "text/plain": [
       "['scaler.pkl']"
      ]
     },
     "execution_count": 8,
     "metadata": {},
     "output_type": "execute_result"
    }
   ],
   "source": [
    "import joblib\n",
    "joblib.dump(scaler, 'scaler.pkl')"
   ]
  },
  {
   "cell_type": "code",
   "execution_count": null,
   "metadata": {},
   "outputs": [],
   "source": []
  },
  {
   "cell_type": "code",
   "execution_count": null,
   "metadata": {},
   "outputs": [],
   "source": []
  },
  {
   "cell_type": "code",
   "execution_count": null,
   "metadata": {},
   "outputs": [],
   "source": []
  },
  {
   "cell_type": "code",
   "execution_count": null,
   "metadata": {},
   "outputs": [],
   "source": []
  }
 ],
 "metadata": {
  "kernelspec": {
   "display_name": "Python imooc_ai",
   "language": "python",
   "name": "imooc_ai"
  },
  "language_info": {
   "codemirror_mode": {
    "name": "ipython",
    "version": 3
   },
   "file_extension": ".py",
   "mimetype": "text/x-python",
   "name": "python",
   "nbconvert_exporter": "python",
   "pygments_lexer": "ipython3",
   "version": "3.10.10"
  }
 },
 "nbformat": 4,
 "nbformat_minor": 2
}
